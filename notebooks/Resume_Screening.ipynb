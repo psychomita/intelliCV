{
  "cells": [
    {
      "cell_type": "markdown",
      "id": "729e57e8",
      "metadata": {
        "id": "729e57e8"
      },
      "source": [
        "# Import Libraries"
      ]
    },
    {
      "cell_type": "code",
      "execution_count": 1,
      "id": "917c740f-e917-4a10-87d7-ab3bd390beda",
      "metadata": {
        "id": "917c740f-e917-4a10-87d7-ab3bd390beda"
      },
      "outputs": [],
      "source": [
        "import numpy as np\n",
        "import pandas as pd\n",
        "import matplotlib.pyplot as plt\n",
        "import seaborn as sns"
      ]
    },
    {
      "cell_type": "markdown",
      "source": [
        "#Loading the dataset"
      ],
      "metadata": {
        "id": "xJvY-wKD2wlM"
      },
      "id": "xJvY-wKD2wlM"
    },
    {
      "cell_type": "code",
      "execution_count": 2,
      "id": "5QaddFd4Ixkp",
      "metadata": {
        "colab": {
          "base_uri": "https://localhost:8080/"
        },
        "id": "5QaddFd4Ixkp",
        "outputId": "0e58c1f0-42b7-4837-9635-e3e39c339e3d"
      },
      "outputs": [
        {
          "output_type": "stream",
          "name": "stdout",
          "text": [
            "⬇️ Downloading dataset from Kaggle...\n",
            "✅ Dataset downloaded at: /kaggle/input/resume-dataset/Resume/Resume.csv\n"
          ]
        }
      ],
      "source": [
        "import kagglehub\n",
        "import os\n",
        "\n",
        "print(\"⬇️ Downloading dataset from Kaggle...\")\n",
        "\n",
        "# Download the dataset\n",
        "dataset_path = kagglehub.dataset_download(\"snehaanbhawal/resume-dataset\")\n",
        "\n",
        "# Path to the Resume.csv file inside the dataset\n",
        "csv_path = os.path.join(dataset_path, \"Resume\", \"Resume.csv\")\n",
        "\n",
        "print(f\"✅ Dataset downloaded at: {csv_path}\")"
      ]
    },
    {
      "cell_type": "code",
      "execution_count": 3,
      "id": "380bc31a-0787-4052-a17a-6d72a833b8f5",
      "metadata": {
        "id": "380bc31a-0787-4052-a17a-6d72a833b8f5"
      },
      "outputs": [],
      "source": [
        "df = pd.read_csv(csv_path)"
      ]
    },
    {
      "cell_type": "code",
      "execution_count": 4,
      "id": "26d5564b",
      "metadata": {
        "colab": {
          "base_uri": "https://localhost:8080/",
          "height": 206
        },
        "id": "26d5564b",
        "outputId": "7c3274d5-aaab-4c41-a8d4-3e2067f9b2bd"
      },
      "outputs": [
        {
          "output_type": "execute_result",
          "data": {
            "text/plain": [
              "                                          Resume_str Category\n",
              "0           HR ADMINISTRATOR/MARKETING ASSOCIATE\\...       HR\n",
              "1           HR SPECIALIST, US HR OPERATIONS      ...       HR\n",
              "2           HR DIRECTOR       Summary      Over 2...       HR\n",
              "3           HR SPECIALIST       Summary    Dedica...       HR\n",
              "4           HR MANAGER         Skill Highlights  ...       HR"
            ],
            "text/html": [
              "\n",
              "  <div id=\"df-27f4b1b2-0b8e-450c-8aa4-cf3aec9336c5\" class=\"colab-df-container\">\n",
              "    <div>\n",
              "<style scoped>\n",
              "    .dataframe tbody tr th:only-of-type {\n",
              "        vertical-align: middle;\n",
              "    }\n",
              "\n",
              "    .dataframe tbody tr th {\n",
              "        vertical-align: top;\n",
              "    }\n",
              "\n",
              "    .dataframe thead th {\n",
              "        text-align: right;\n",
              "    }\n",
              "</style>\n",
              "<table border=\"1\" class=\"dataframe\">\n",
              "  <thead>\n",
              "    <tr style=\"text-align: right;\">\n",
              "      <th></th>\n",
              "      <th>Resume_str</th>\n",
              "      <th>Category</th>\n",
              "    </tr>\n",
              "  </thead>\n",
              "  <tbody>\n",
              "    <tr>\n",
              "      <th>0</th>\n",
              "      <td>HR ADMINISTRATOR/MARKETING ASSOCIATE\\...</td>\n",
              "      <td>HR</td>\n",
              "    </tr>\n",
              "    <tr>\n",
              "      <th>1</th>\n",
              "      <td>HR SPECIALIST, US HR OPERATIONS      ...</td>\n",
              "      <td>HR</td>\n",
              "    </tr>\n",
              "    <tr>\n",
              "      <th>2</th>\n",
              "      <td>HR DIRECTOR       Summary      Over 2...</td>\n",
              "      <td>HR</td>\n",
              "    </tr>\n",
              "    <tr>\n",
              "      <th>3</th>\n",
              "      <td>HR SPECIALIST       Summary    Dedica...</td>\n",
              "      <td>HR</td>\n",
              "    </tr>\n",
              "    <tr>\n",
              "      <th>4</th>\n",
              "      <td>HR MANAGER         Skill Highlights  ...</td>\n",
              "      <td>HR</td>\n",
              "    </tr>\n",
              "  </tbody>\n",
              "</table>\n",
              "</div>\n",
              "    <div class=\"colab-df-buttons\">\n",
              "\n",
              "  <div class=\"colab-df-container\">\n",
              "    <button class=\"colab-df-convert\" onclick=\"convertToInteractive('df-27f4b1b2-0b8e-450c-8aa4-cf3aec9336c5')\"\n",
              "            title=\"Convert this dataframe to an interactive table.\"\n",
              "            style=\"display:none;\">\n",
              "\n",
              "  <svg xmlns=\"http://www.w3.org/2000/svg\" height=\"24px\" viewBox=\"0 -960 960 960\">\n",
              "    <path d=\"M120-120v-720h720v720H120Zm60-500h600v-160H180v160Zm220 220h160v-160H400v160Zm0 220h160v-160H400v160ZM180-400h160v-160H180v160Zm440 0h160v-160H620v160ZM180-180h160v-160H180v160Zm440 0h160v-160H620v160Z\"/>\n",
              "  </svg>\n",
              "    </button>\n",
              "\n",
              "  <style>\n",
              "    .colab-df-container {\n",
              "      display:flex;\n",
              "      gap: 12px;\n",
              "    }\n",
              "\n",
              "    .colab-df-convert {\n",
              "      background-color: #E8F0FE;\n",
              "      border: none;\n",
              "      border-radius: 50%;\n",
              "      cursor: pointer;\n",
              "      display: none;\n",
              "      fill: #1967D2;\n",
              "      height: 32px;\n",
              "      padding: 0 0 0 0;\n",
              "      width: 32px;\n",
              "    }\n",
              "\n",
              "    .colab-df-convert:hover {\n",
              "      background-color: #E2EBFA;\n",
              "      box-shadow: 0px 1px 2px rgba(60, 64, 67, 0.3), 0px 1px 3px 1px rgba(60, 64, 67, 0.15);\n",
              "      fill: #174EA6;\n",
              "    }\n",
              "\n",
              "    .colab-df-buttons div {\n",
              "      margin-bottom: 4px;\n",
              "    }\n",
              "\n",
              "    [theme=dark] .colab-df-convert {\n",
              "      background-color: #3B4455;\n",
              "      fill: #D2E3FC;\n",
              "    }\n",
              "\n",
              "    [theme=dark] .colab-df-convert:hover {\n",
              "      background-color: #434B5C;\n",
              "      box-shadow: 0px 1px 3px 1px rgba(0, 0, 0, 0.15);\n",
              "      filter: drop-shadow(0px 1px 2px rgba(0, 0, 0, 0.3));\n",
              "      fill: #FFFFFF;\n",
              "    }\n",
              "  </style>\n",
              "\n",
              "    <script>\n",
              "      const buttonEl =\n",
              "        document.querySelector('#df-27f4b1b2-0b8e-450c-8aa4-cf3aec9336c5 button.colab-df-convert');\n",
              "      buttonEl.style.display =\n",
              "        google.colab.kernel.accessAllowed ? 'block' : 'none';\n",
              "\n",
              "      async function convertToInteractive(key) {\n",
              "        const element = document.querySelector('#df-27f4b1b2-0b8e-450c-8aa4-cf3aec9336c5');\n",
              "        const dataTable =\n",
              "          await google.colab.kernel.invokeFunction('convertToInteractive',\n",
              "                                                    [key], {});\n",
              "        if (!dataTable) return;\n",
              "\n",
              "        const docLinkHtml = 'Like what you see? Visit the ' +\n",
              "          '<a target=\"_blank\" href=https://colab.research.google.com/notebooks/data_table.ipynb>data table notebook</a>'\n",
              "          + ' to learn more about interactive tables.';\n",
              "        element.innerHTML = '';\n",
              "        dataTable['output_type'] = 'display_data';\n",
              "        await google.colab.output.renderOutput(dataTable, element);\n",
              "        const docLink = document.createElement('div');\n",
              "        docLink.innerHTML = docLinkHtml;\n",
              "        element.appendChild(docLink);\n",
              "      }\n",
              "    </script>\n",
              "  </div>\n",
              "\n",
              "\n",
              "<div id=\"df-229700c5-a43d-436d-8a1c-d545b2c4b363\">\n",
              "  <button class=\"colab-df-quickchart\" onclick=\"quickchart('df-229700c5-a43d-436d-8a1c-d545b2c4b363')\"\n",
              "            title=\"Suggest charts\"\n",
              "            style=\"display:none;\">\n",
              "\n",
              "<svg xmlns=\"http://www.w3.org/2000/svg\" height=\"24px\"viewBox=\"0 0 24 24\"\n",
              "     width=\"24px\">\n",
              "    <g>\n",
              "        <path d=\"M19 3H5c-1.1 0-2 .9-2 2v14c0 1.1.9 2 2 2h14c1.1 0 2-.9 2-2V5c0-1.1-.9-2-2-2zM9 17H7v-7h2v7zm4 0h-2V7h2v10zm4 0h-2v-4h2v4z\"/>\n",
              "    </g>\n",
              "</svg>\n",
              "  </button>\n",
              "\n",
              "<style>\n",
              "  .colab-df-quickchart {\n",
              "      --bg-color: #E8F0FE;\n",
              "      --fill-color: #1967D2;\n",
              "      --hover-bg-color: #E2EBFA;\n",
              "      --hover-fill-color: #174EA6;\n",
              "      --disabled-fill-color: #AAA;\n",
              "      --disabled-bg-color: #DDD;\n",
              "  }\n",
              "\n",
              "  [theme=dark] .colab-df-quickchart {\n",
              "      --bg-color: #3B4455;\n",
              "      --fill-color: #D2E3FC;\n",
              "      --hover-bg-color: #434B5C;\n",
              "      --hover-fill-color: #FFFFFF;\n",
              "      --disabled-bg-color: #3B4455;\n",
              "      --disabled-fill-color: #666;\n",
              "  }\n",
              "\n",
              "  .colab-df-quickchart {\n",
              "    background-color: var(--bg-color);\n",
              "    border: none;\n",
              "    border-radius: 50%;\n",
              "    cursor: pointer;\n",
              "    display: none;\n",
              "    fill: var(--fill-color);\n",
              "    height: 32px;\n",
              "    padding: 0;\n",
              "    width: 32px;\n",
              "  }\n",
              "\n",
              "  .colab-df-quickchart:hover {\n",
              "    background-color: var(--hover-bg-color);\n",
              "    box-shadow: 0 1px 2px rgba(60, 64, 67, 0.3), 0 1px 3px 1px rgba(60, 64, 67, 0.15);\n",
              "    fill: var(--button-hover-fill-color);\n",
              "  }\n",
              "\n",
              "  .colab-df-quickchart-complete:disabled,\n",
              "  .colab-df-quickchart-complete:disabled:hover {\n",
              "    background-color: var(--disabled-bg-color);\n",
              "    fill: var(--disabled-fill-color);\n",
              "    box-shadow: none;\n",
              "  }\n",
              "\n",
              "  .colab-df-spinner {\n",
              "    border: 2px solid var(--fill-color);\n",
              "    border-color: transparent;\n",
              "    border-bottom-color: var(--fill-color);\n",
              "    animation:\n",
              "      spin 1s steps(1) infinite;\n",
              "  }\n",
              "\n",
              "  @keyframes spin {\n",
              "    0% {\n",
              "      border-color: transparent;\n",
              "      border-bottom-color: var(--fill-color);\n",
              "      border-left-color: var(--fill-color);\n",
              "    }\n",
              "    20% {\n",
              "      border-color: transparent;\n",
              "      border-left-color: var(--fill-color);\n",
              "      border-top-color: var(--fill-color);\n",
              "    }\n",
              "    30% {\n",
              "      border-color: transparent;\n",
              "      border-left-color: var(--fill-color);\n",
              "      border-top-color: var(--fill-color);\n",
              "      border-right-color: var(--fill-color);\n",
              "    }\n",
              "    40% {\n",
              "      border-color: transparent;\n",
              "      border-right-color: var(--fill-color);\n",
              "      border-top-color: var(--fill-color);\n",
              "    }\n",
              "    60% {\n",
              "      border-color: transparent;\n",
              "      border-right-color: var(--fill-color);\n",
              "    }\n",
              "    80% {\n",
              "      border-color: transparent;\n",
              "      border-right-color: var(--fill-color);\n",
              "      border-bottom-color: var(--fill-color);\n",
              "    }\n",
              "    90% {\n",
              "      border-color: transparent;\n",
              "      border-bottom-color: var(--fill-color);\n",
              "    }\n",
              "  }\n",
              "</style>\n",
              "\n",
              "  <script>\n",
              "    async function quickchart(key) {\n",
              "      const quickchartButtonEl =\n",
              "        document.querySelector('#' + key + ' button');\n",
              "      quickchartButtonEl.disabled = true;  // To prevent multiple clicks.\n",
              "      quickchartButtonEl.classList.add('colab-df-spinner');\n",
              "      try {\n",
              "        const charts = await google.colab.kernel.invokeFunction(\n",
              "            'suggestCharts', [key], {});\n",
              "      } catch (error) {\n",
              "        console.error('Error during call to suggestCharts:', error);\n",
              "      }\n",
              "      quickchartButtonEl.classList.remove('colab-df-spinner');\n",
              "      quickchartButtonEl.classList.add('colab-df-quickchart-complete');\n",
              "    }\n",
              "    (() => {\n",
              "      let quickchartButtonEl =\n",
              "        document.querySelector('#df-229700c5-a43d-436d-8a1c-d545b2c4b363 button');\n",
              "      quickchartButtonEl.style.display =\n",
              "        google.colab.kernel.accessAllowed ? 'block' : 'none';\n",
              "    })();\n",
              "  </script>\n",
              "</div>\n",
              "\n",
              "    </div>\n",
              "  </div>\n"
            ],
            "application/vnd.google.colaboratory.intrinsic+json": {
              "type": "dataframe",
              "variable_name": "df",
              "summary": "{\n  \"name\": \"df\",\n  \"rows\": 2484,\n  \"fields\": [\n    {\n      \"column\": \"Resume_str\",\n      \"properties\": {\n        \"dtype\": \"string\",\n        \"num_unique_values\": 2482,\n        \"samples\": [\n          \"         INFORMATION TECHNOLOGY SPECIALIST(DISCOUNTPCFIX)       Summary     I am obsessed with technology. It's power to change everything. Technology fuels my passion and commitment to helping organizations do what they set out to. When I engage, I bring fresh ideas that help your team galvanize performance. Refine your strategy. Spark new energy. \\nThe future\\u2014and how we get there\\u2014depends on those who build, connect, create and transform our world.  Accomplished with over 10 years of information technology support experience.  Highly articulate Capable experienced installing and updating hardware and software systems for users. Known for effectively optimizing systems to meet changing demands, enhancing collaboration and improving security.  Experienced Operations Analyst with first-rate skills in organizing, problem solving and project management. Ready to apply experience and abilities to take on new professional challenges.  Passionate and driven professional with remarkable analytical and problem solving skills.  Expert quality assurance tester offering five years of experience in detailed technical and system specifications.  Provides a collaborative style and has well-developed communication skills. Seeking a role in test reporting and defect resolution.  Well-rounded team player with dynamic written and verbal communication skills.  Hardworking and resourceful team player.  History of going above and beyond to achieve notable results.  Offering excellent blend of technical aptitude and creative ability. Inspires design teams with engaging management techniques and innovative thinking. Resourceful Technical Support Engineer polished in restoring system functionality by quickly assessing and resolving diverse hardware and software problems.       Skills          Issue escalation  Reporting and analysis  Quality control  Schematic understanding  Critical thinking  Data management  Network Administration  Experience in leadership  Improvement plan knowledge  Supervision  Hardware repair  Computer configurations  System upgrades  New program installations  Organizational leadership  Troubleshooting and Maintenance  Equipment repair  Power and hand tool use  Troubleshooting and repairs  Preventative maintenance  Telecommunications systems  Component repairs  Multitasking  Part inspections  Friendly, positive attitude  LAN and WAN configurations      Server and System Administration  End-User Training  Program installations  Software testing  Server improvements  Data backups  Project management  Security technologies  Network configuration  Time management  Active Directory knowledge  Cybersecurity analysis  System Administration  Microsoft Office  MS Office  Apple iOS Technician  Help desk assistance  Application software testing  Mechanical abilities  Information Systems Security Professional  Advanced knowledge of Windows OS  Advanced knowledge of Google Chrome OS  Soldering  Database management  Technical knowledge of server system softwares  Servers, storage systems, network equipment, PCs or notebooks of any brands.            Experience      Information Technology Specialist(Discountpcfix)   |   11/2011   -   Current    Company Name    -    City  ,   State       Assisted client with new computer and network equipment purchases.  Updated or installed software for customers to ensure computer efficiency.  Checked in computers and performed diagnostics for repair.  Backed up data each evening, helping alleviate lost information following malware incident.  Updated software versions with patches and new installations to close security loopholes and protect users.  Identified hardware issues caused by component failures using approved diagnostic tools.  Installed over motherboards, processors and graphics cards.  Configured computers to network drivers and connected to printers and other peripheral equipment.  Upgraded laptops/desktops, improving speed and performance.  Fixed All Apple(iphone,imac,ipad,laptop) Products Screen damage.  Fixed any brand,Windows OS,Mac OS,Chrome OS products liquid damage.  Observed system functioning and entered commands to test different areas of operations.  Explained technology-related details in easy-to-understand terms to individuals from all walks of life and in various job positions.  Responded to assistance requests from users and directed individuals through basic troubleshooting tasks.  Reviewed current hardware and software configurations and recommended modifications to increase system speed.  Serviced and repaired equipment according to manufacturer guidelines.  Installed new systems and components according to service orders and manufacturer instructions.  Assessed and identified issues and quickly resolved to restore functionality.  Built and repaired computers according to schedule.  Installed, configured, and setup PCs in all stores for optimal operation and reporting.  Evaluated interfaces between hardware and software, testing performance requirements.  Studied complex technical issues and determined proper resolution methods.  Assisted with post-implementation troubleshooting of new applications and application upgrades.  Determined and alleviated hardware, software and network issues.  Installed and supported hardware and software, including desktops, servers and printers.  Identified operational and performance issues and worked with managers to resolve concerns.  Completed various reports and analyzed each report to decide where improvements could be made.  Recommended process and systems improvements such as changes to operations.  Updated hardware and software upon availability and supervised network to eliminate bottlenecks immediately.  Handled network configurations after hours and on weekends to alleviate downtime and maintain smooth operations.  Assisted customers with various types of technical issues via email, live chat and telephone.  Delivered local and remote Tier 1 IT support for hardware and software to company personnel.  Disassembled computer systems to troubleshoot and resolve hardware issues.  Increased overall company performance through improved IT uptime and cost reductions.         Quality Control Inspector Contractor   |   04/2019   -   Current    Company Name    -    City  ,   State       Conferred with scientific, engineering and technical personnel to resolve design, research and testing problems.  Worked with engineers to facilitate research and development testing, correct mechanical failures and generate technical specifications prior to release.  Developed and implemented best practices for defect prevention and continuous improvement.  Used specialized tools to take precise measurements of various aspects of samples.  Consulted with engineers to resolve quality, production and efficiency problems.  Wrote detailed reports outlining performance, quality and defect rates.  Completed non-destructive tests and visual inspections on a continuous basis.  Inspected quality of finished products, making minor repairs to meet project expectations.  Documented nonconformities immediately and recommended techniques for prompt resolution.  Completed non-destructive tests and visual inspections continuously.  Reviewed drawings and blueprints to determine appropriate level of inspection required.  Adhered to all safety protocols to minimize equipment damage and avoid injuries.  Assessed materials, parts and products for conformance with quality control requirements and production specifications.         Network Analyst   |   06/2016   -   05/2018    Company Name    -    City  ,   State       Identified operational and performance issues and worked with managers to resolve concerns.  Supporting of the following hardware types: servers, storage systems, network equipment, PCs ipad and notebooks of any brands.  Analyzed operational performance to identify pain points and provided actionable solutions to management.  Educated personnel on company policies to foster improved customer retention and increased revenue.  Technical knowledge of standard server system software (Linux, Windows, VMWare)  Drove revenue and customer retention by visiting corporate and franchise centers serving clients to educate staff on company policies and customer styling applications.  Wrote reports outlining results to facilitate management decision making.  Executed and monitored standards for user interfaces, page design and graphics development.  Provided senior technical support to both in-house staff and user departments for all network applications.  Monitored project budget through the careful assessment of resource usage and task management to ensure that costs were kept low.  Supported customers with password resets and account customization.  Recorded complaints, product deficiencies, returned orders and other customer documentation in system.  Supported customers having data connectivity issues, assisting with troubleshooting steps and rebooting of hardware.  Maintained composure and patience in face of difficult customer situations, applying de-escalation techniques and positive customer support.  Performed site evaluations, customer surveys and team audits.  Promoted continuous improvement for IT governance processes.  Spearheaded server infrastructure development, quality control, staging and production operations.         Quality Control Manager   |   07/2013   -   08/2015    Company Name    -    City  ,   State       Stayed well-informed of all company and federal regulations, which bolstered compliance of all corporate processes.  Used creative and professional policy to find solutions to issues while diminishing conflicts.  Handled all scheduling procedures for the department and directed team members in setting and achieving goals.  Observed customer specifications by monitoring the quality control of finished products.         Education and Training      The Federal Polytechnic, Ado-Ekiti    -    City  ,  State      |    Associate of Science    Science Technology  ,   2003          Phoenix East Aviation    -    City  ,  State      |    F.A.A  Aircraft Dispatcher License    Aviation  ,   2014          University Of Colorado At Boulder    -    City        |    Certificate    Cybersecurity Policy For Aviation And Internet   ,   07/2020          GOOGLE I.T SUPPORT    -    City        |    Certificate      03/2021     Completed professional Course in:   IT Security: Defense against the digital dark arts  Operating System and You: Becoming a power user  The Bits and Bytes of Computer Networking  System Administration and IT Infrastructure Service  Technical Support Fundamentals     \",\n          \"         BUSINESS DEVELOPMENT DIRECTOR       Summary     I collaborate with multiple stakeholders to determine audience needs, quickly developing strategic plans that align with my clients business priorities and strategies.       Experience      Business Development Director   05/1997   to   Current     Company Name   City  ,   State      Producing measurable results for my clients by designing unique engagement initiatives for employees, sales channel partners and consumers groups. Sales of performance improvement products, most being intangible services to Fortune 500 clients. Success at discovering and growing my business with customers who have the potential to spend more than $1 million with me each year.   I have designed innovative solutions, customized to each customers various objectives and end result needs.  Managing my internal teams to develop, design and operate complex custom projects ranging in value at least $150,000 to millions.  Titles called on include the entire C suite, CEO, COO, CFO, CMO, President, EVP's of Marketing, Sales, Human Resources & Finance.  Define business issues to improve revenue and penetrating existing accounts and opening new.  Sold 17 new accounts while in current position, managed sales volume and profit margin with long sales cycle.  Managed and hired staff of 4 to work with my major global account travel & meetings business over 8 years.  Total book of business constantly over $2.5 million each year.  Nearly twice the entertainment activity of other BDD's with similar tenure.  Achieved over $6 million in sales twice, becoming a trusted partner to my clients, customers want me to Win!          Account Territory & District Sales Manager / National Account Sales   08/1989   to   04/1997     Company Name   City  ,   State       Responsible for growth of distributor sales volume, product mix and motivation of DSR sales forces.  Developed my own custom local training and marketing materials, which were later adopted by the Nestle corporate.  Distributor and chain accounts accounted for over $11 million in sales.  Increased my chain accounts by over 75% while with national accounts.  Created sales forecasts, developed budgets, strategic plans and managed entire regional office staff. Working with my team we grew business at Nestle largest US account by nearly double.  Surpassed sales, budget goals every year as manager and twice led company nationally in new product introductions.  District sales grew from $16 million to over $22 million as district manager. Hired five salespeople and 4 direct reports were promoted, managed up to eight account managers at a time.  Developed new reports, marketing and promotional strategies for the field. Designed account reviews process, management and field training programs for the entire company.  Sold small business owners and managed distributor sales accounts, using strategic planning, innovative programming and by cultivating strong personal relationships. Took area territory sales from $500,000 to $2.9 million, with a mature company in an industry with an average annual increase of only 3-5%.          Financial Operations Executive and Department Merchandising Manager   04/1988   to   08/1989     Company Name   City  ,   State     Financial Operations Executive for the South Bend store. Volunteered to be merchandise manager for the stores largest department. While in this role the department had the highest per foot sales volume of any department in the entire corporation during the 4th quarter of 1988.        Accomplishments      4 times President Achievement Guild Award winner, award for sales volume and profit.  3 times President Achievement Award winner, award for sales volume and profit.  4 times Achievement Guild winner, for leadership in 3 year running combined volume.  Top travel and meetings sales several times since with BIW.  National sales contest \\\"the 1993 Superbowl\\\".  Twice awarded \\\"The Over Achiever of the Year\\\" by my most profitable direct customer.  Reviewed consistently by management throughout career as \\\"Outstanding or Exceeding Expectations\\\".  College: elected to executive positions with both Finance Club and Resident Housing Association.        Skills     Sales, Business Development, Distributor Sales, Territory Sales, District Sales, Sales of Solutions, Sales Teams, Sales Accounts, National Accounts, Sales Management, Strategic Accounts, Sales Promotions, Travel & Meeting Sales, Technology Application Sales, Clients Management, Marketing, Budget, Budgets, Forecasts, Promotional, Travel & Meeting Operations, Strategic Planning, Training, Training Development, Financial Operations, Merchandising, Corporate Operations, Employee Engagement, Managing Existing Accounts, Forecasting, Human Resources, Finding New Accounts, Relationship Building and Strategic Direction.       Education      Bachelor of Business Administration  :   Finance, General Business   1988       Western Michigan University   City  ,   State  ,   US      Earned over 85% of all educational/living costs. Jobs worked while in college, industrial heavy construction, excelled at several sales roles including at direct sales of home goods. While in direct sales I won a national trip and was ranked in the top 10 in the country in sales.  Started two successful on campus businesses. Member of the varsity division I football team for 4 years.         Organizations     IMEX, Milford Memories Planning Board, Huron Valley Youth Baseball President/Treasurer/Director of Travel Baseball, Lakeland Milford Travel Secretary and Milford High School baseball instructor.    \",\n          \"           ENGINEERING MANAGER         Professional Summary    Experienced product development Engineer and manager able to collaborate with cross functional team as well as customers and sales to bring brand new offerings to new markets. Skilled at managing cross functional team for continuous improvements and meeting project deadlines. Offering 6 years of experience in the field.      Skills          Microsoft Office  Microsoft Project  Product development  Quality  Research  Six Sigma Green Belt  Solid Works  Visio  Prioritization  Personnel management  Critical thinking skills  Team management  Analyst, Visio  Agency  Consulting  Cost analysis  Critical thinking  Designing  Dialysis  Direction      Develop drug  Functional  IIa  ISO  Leadership  Market and development  Microsoft Office  Microsoft Project  Personnel management  Design process  Product development  Product management  Quality  Researching  Research  Sales  Six Sigma  Solid Works  Team management  Validation            Work History      Engineering Manager  ,     03/2018   to   Current       City  ,   State      Create and maintain Technical Files per MDR requirements as well as attaining 510k on legacy products.  Assess testing gaps of legacy products and design creep.  Experienced in working with multiple departments.  Experienced in training and leading engineers in order to investigate field complaints, Gap analysis and building Technical files/DHF.  Experienced in leading team of engineers to lead all aspects of design process, including regulatory needs per market and development per design control.  Tasked to create test plan and analysis of existing Class I, II and III products and Testing per latest applicable requirements.  Trained team in conducting project related cost analysis, test gap analysis and researching ISO/EN ISO/ASTM requirements.  Leading companywide EU MDR product transfer and testing on Infusion products, Dialysis products and standalone products.  Provided technical direction on MDR and 510k related projects and initiatives to other engineers and technicians.         Project Engineer II  ,     03/2017   to   03/2018     Company Name   \\u2013   City  ,   State      Working with product management, Clinical Analyst, sales, and regulatory to determine optimal design inputs for new products.  Completed design transfer and attained 510k on Class IIb device in under year.  Lead cross functional team including consulting agency in order to Develop drug device combination product and research optimal process using DOE in order for mass production.  Leading all aspects of design control from designing on solid works to process validations and V&V Testing.  Analyzing and resolving field failures through investigation and testing.  Experienced in working with international regulatory teams in providing information for foreign registration.  Responsible for gap analysis and test planning in order to create and meet deadline for projects.  Experienced with reviewing and approving validation activities as well as provide support to staff to achieve project milestones.  Experienced working with cross functional teams to complete projects and tasks.         Engineer I  ,     06/2013   to   03/2017     Company Name   \\u2013   City  ,   State      Worked to bring Drug Device Combination product to mass production.  Completed new Class IIa product and completed project in 10 months.  Completing CAPAs and resolving field failures by research and testing.  Developed new testing methods and designed tooling for new testing.  Experienced in using Injection Molding Machine to Create and Test Prototypes.  Found cheaper and more responsible vendor for MRI related testing.         Education      Bachelor of Science  :   Mechanical Engineering  ,   05/2013     Temple University   -   City  ,   State           Certifications\\nManagement Leadership Certification and Six Sigma Greenbelt certification              Work History      Engineering Manager  ,   03/2018   to   Current       City  ,   State      Create and maintain Technical Files per MDR requirements as well as attaining 510k on legacy products.  Assess testing gaps of legacy products and design creep.  Experienced in working with multiple departments.  Experienced in training and leading engineers in order to investigate field complaints, Gap analysis and building Technical files/DHF.  Experienced in leading team of engineers to lead all aspects of design process, including regulatory needs per market and development per design control.  Tasked to create test plan and analysis of existing Class I, II and III products and Testing per latest applicable requirements.  Trained team in conducting project related cost analysis, test gap analysis and researching ISO/EN ISO/ASTM requirements.  Leading companywide EU MDR product transfer and testing on Infusion products, Dialysis products and standalone products.  Provided technical direction on MDR and 510k related projects and initiatives to other engineers and technicians.         Project Engineer II  ,   03/2017   to   03/2018     Company Name   \\u2013   City  ,   State      Working with product management, Clinical Analyst, sales, and regulatory to determine optimal design inputs for new products.  Completed design transfer and attained 510k on Class IIb device in under year.  Lead cross functional team including consulting agency in order to Develop drug device combination product and research optimal process using DOE in order for mass production.  Leading all aspects of design control from designing on solid works to process validations and V&V Testing.  Analyzing and resolving field failures through investigation and testing.  Experienced in working with international regulatory teams in providing information for foreign registration.  Responsible for gap analysis and test planning in order to create and meet deadline for projects.  Experienced with reviewing and approving validation activities as well as provide support to staff to achieve project milestones.  Experienced working with cross functional teams to complete projects and tasks.         Engineer I  ,   06/2013   to   03/2017     Company Name   \\u2013   City  ,   State      Worked to bring Drug Device Combination product to mass production.  Completed new Class IIa product and completed project in 10 months.  Completing CAPAs and resolving field failures by research and testing.  Developed new testing methods and designed tooling for new testing.  Experienced in using Injection Molding Machine to Create and Test Prototypes.  Found cheaper and more responsible vendor for MRI related testing.         Skills     Microsoft Office  Microsoft Project  Product development  Quality  Research  Six Sigma Green Belt  Solid Works  Visio  Prioritization  Personnel management  Critical thinking skills  Team management,  Analyst, agency, consulting, cost analysis, Critical thinking, Designing, Dialysis, direction, Develop drug, functional, IIa, ISO, Leadership, market and development, Microsoft Office, Microsoft Project, Personnel management, design process, Product development, product management, Quality, researching, Research, sales, Six Sigma, Solid Works, Team management, validation, Visio    \"\n        ],\n        \"semantic_type\": \"\",\n        \"description\": \"\"\n      }\n    },\n    {\n      \"column\": \"Category\",\n      \"properties\": {\n        \"dtype\": \"category\",\n        \"num_unique_values\": 24,\n        \"samples\": [\n          \"AGRICULTURE\",\n          \"APPAREL\",\n          \"HR\"\n        ],\n        \"semantic_type\": \"\",\n        \"description\": \"\"\n      }\n    }\n  ]\n}"
            }
          },
          "metadata": {},
          "execution_count": 4
        }
      ],
      "source": [
        "df = df[['Resume_str', 'Category']].dropna()\n",
        "df.head()"
      ]
    },
    {
      "cell_type": "code",
      "execution_count": 5,
      "id": "496ae6bc",
      "metadata": {
        "colab": {
          "base_uri": "https://localhost:8080/"
        },
        "id": "496ae6bc",
        "outputId": "fcc42e00-ce74-4e34-fd04-12360efc8b72"
      },
      "outputs": [
        {
          "output_type": "execute_result",
          "data": {
            "text/plain": [
              "(2484, 2)"
            ]
          },
          "metadata": {},
          "execution_count": 5
        }
      ],
      "source": [
        "df.shape"
      ]
    },
    {
      "cell_type": "markdown",
      "id": "ddeba39c",
      "metadata": {
        "id": "ddeba39c"
      },
      "source": [
        "# Exploring Categories"
      ]
    },
    {
      "cell_type": "code",
      "execution_count": 6,
      "id": "f56f1933",
      "metadata": {
        "colab": {
          "base_uri": "https://localhost:8080/",
          "height": 868
        },
        "id": "f56f1933",
        "outputId": "b72055a9-47ae-45ab-fb47-8ee7b6076579"
      },
      "outputs": [
        {
          "output_type": "execute_result",
          "data": {
            "text/plain": [
              "Category\n",
              "INFORMATION-TECHNOLOGY    120\n",
              "BUSINESS-DEVELOPMENT      120\n",
              "ADVOCATE                  118\n",
              "CHEF                      118\n",
              "ENGINEERING               118\n",
              "ACCOUNTANT                118\n",
              "FINANCE                   118\n",
              "FITNESS                   117\n",
              "AVIATION                  117\n",
              "SALES                     116\n",
              "BANKING                   115\n",
              "HEALTHCARE                115\n",
              "CONSULTANT                115\n",
              "CONSTRUCTION              112\n",
              "PUBLIC-RELATIONS          111\n",
              "HR                        110\n",
              "DESIGNER                  107\n",
              "ARTS                      103\n",
              "TEACHER                   102\n",
              "APPAREL                    97\n",
              "DIGITAL-MEDIA              96\n",
              "AGRICULTURE                63\n",
              "AUTOMOBILE                 36\n",
              "BPO                        22\n",
              "Name: count, dtype: int64"
            ],
            "text/html": [
              "<div>\n",
              "<style scoped>\n",
              "    .dataframe tbody tr th:only-of-type {\n",
              "        vertical-align: middle;\n",
              "    }\n",
              "\n",
              "    .dataframe tbody tr th {\n",
              "        vertical-align: top;\n",
              "    }\n",
              "\n",
              "    .dataframe thead th {\n",
              "        text-align: right;\n",
              "    }\n",
              "</style>\n",
              "<table border=\"1\" class=\"dataframe\">\n",
              "  <thead>\n",
              "    <tr style=\"text-align: right;\">\n",
              "      <th></th>\n",
              "      <th>count</th>\n",
              "    </tr>\n",
              "    <tr>\n",
              "      <th>Category</th>\n",
              "      <th></th>\n",
              "    </tr>\n",
              "  </thead>\n",
              "  <tbody>\n",
              "    <tr>\n",
              "      <th>INFORMATION-TECHNOLOGY</th>\n",
              "      <td>120</td>\n",
              "    </tr>\n",
              "    <tr>\n",
              "      <th>BUSINESS-DEVELOPMENT</th>\n",
              "      <td>120</td>\n",
              "    </tr>\n",
              "    <tr>\n",
              "      <th>ADVOCATE</th>\n",
              "      <td>118</td>\n",
              "    </tr>\n",
              "    <tr>\n",
              "      <th>CHEF</th>\n",
              "      <td>118</td>\n",
              "    </tr>\n",
              "    <tr>\n",
              "      <th>ENGINEERING</th>\n",
              "      <td>118</td>\n",
              "    </tr>\n",
              "    <tr>\n",
              "      <th>ACCOUNTANT</th>\n",
              "      <td>118</td>\n",
              "    </tr>\n",
              "    <tr>\n",
              "      <th>FINANCE</th>\n",
              "      <td>118</td>\n",
              "    </tr>\n",
              "    <tr>\n",
              "      <th>FITNESS</th>\n",
              "      <td>117</td>\n",
              "    </tr>\n",
              "    <tr>\n",
              "      <th>AVIATION</th>\n",
              "      <td>117</td>\n",
              "    </tr>\n",
              "    <tr>\n",
              "      <th>SALES</th>\n",
              "      <td>116</td>\n",
              "    </tr>\n",
              "    <tr>\n",
              "      <th>BANKING</th>\n",
              "      <td>115</td>\n",
              "    </tr>\n",
              "    <tr>\n",
              "      <th>HEALTHCARE</th>\n",
              "      <td>115</td>\n",
              "    </tr>\n",
              "    <tr>\n",
              "      <th>CONSULTANT</th>\n",
              "      <td>115</td>\n",
              "    </tr>\n",
              "    <tr>\n",
              "      <th>CONSTRUCTION</th>\n",
              "      <td>112</td>\n",
              "    </tr>\n",
              "    <tr>\n",
              "      <th>PUBLIC-RELATIONS</th>\n",
              "      <td>111</td>\n",
              "    </tr>\n",
              "    <tr>\n",
              "      <th>HR</th>\n",
              "      <td>110</td>\n",
              "    </tr>\n",
              "    <tr>\n",
              "      <th>DESIGNER</th>\n",
              "      <td>107</td>\n",
              "    </tr>\n",
              "    <tr>\n",
              "      <th>ARTS</th>\n",
              "      <td>103</td>\n",
              "    </tr>\n",
              "    <tr>\n",
              "      <th>TEACHER</th>\n",
              "      <td>102</td>\n",
              "    </tr>\n",
              "    <tr>\n",
              "      <th>APPAREL</th>\n",
              "      <td>97</td>\n",
              "    </tr>\n",
              "    <tr>\n",
              "      <th>DIGITAL-MEDIA</th>\n",
              "      <td>96</td>\n",
              "    </tr>\n",
              "    <tr>\n",
              "      <th>AGRICULTURE</th>\n",
              "      <td>63</td>\n",
              "    </tr>\n",
              "    <tr>\n",
              "      <th>AUTOMOBILE</th>\n",
              "      <td>36</td>\n",
              "    </tr>\n",
              "    <tr>\n",
              "      <th>BPO</th>\n",
              "      <td>22</td>\n",
              "    </tr>\n",
              "  </tbody>\n",
              "</table>\n",
              "</div><br><label><b>dtype:</b> int64</label>"
            ]
          },
          "metadata": {},
          "execution_count": 6
        }
      ],
      "source": [
        "df['Category'].value_counts()"
      ]
    },
    {
      "cell_type": "code",
      "execution_count": 7,
      "id": "8e23217e",
      "metadata": {
        "colab": {
          "base_uri": "https://localhost:8080/",
          "height": 378
        },
        "id": "8e23217e",
        "outputId": "66d7baa6-8786-40ac-f099-cd4f81bee635"
      },
      "outputs": [
        {
          "output_type": "display_data",
          "data": {
            "text/plain": [
              "<Figure size 1500x500 with 1 Axes>"
            ],
            "image/png": "[encoded data removed]"
          },
          "metadata": {}
        }
      ],
      "source": [
        "plt.figure(figsize=(15,5))\n",
        "sns.countplot(df['Category'])\n",
        "plt.xticks(rotation=90)\n",
        "plt.show()"
      ]
    },
    {
      "cell_type": "code",
      "execution_count": 8,
      "id": "b5b84a8f",
      "metadata": {
        "colab": {
          "base_uri": "https://localhost:8080/"
        },
        "id": "b5b84a8f",
        "outputId": "f3f385a2-836e-4f34-a17b-f2c441734ede"
      },
      "outputs": [
        {
          "output_type": "execute_result",
          "data": {
            "text/plain": [
              "array(['HR', 'DESIGNER', 'INFORMATION-TECHNOLOGY', 'TEACHER', 'ADVOCATE',\n",
              "       'BUSINESS-DEVELOPMENT', 'HEALTHCARE', 'FITNESS', 'AGRICULTURE',\n",
              "       'BPO', 'SALES', 'CONSULTANT', 'DIGITAL-MEDIA', 'AUTOMOBILE',\n",
              "       'CHEF', 'FINANCE', 'APPAREL', 'ENGINEERING', 'ACCOUNTANT',\n",
              "       'CONSTRUCTION', 'PUBLIC-RELATIONS', 'BANKING', 'ARTS', 'AVIATION'],\n",
              "      dtype=object)"
            ]
          },
          "metadata": {},
          "execution_count": 8
        }
      ],
      "source": [
        "df['Category'].unique()"
      ]
    },
    {
      "cell_type": "code",
      "execution_count": 9,
      "id": "82f1a307",
      "metadata": {
        "colab": {
          "base_uri": "https://localhost:8080/",
          "height": 807
        },
        "id": "82f1a307",
        "outputId": "5f8954ff-6c92-4687-e32b-8afa6e4fc808"
      },
      "outputs": [
        {
          "output_type": "display_data",
          "data": {
            "text/plain": [
              "<Figure size 1500x1000 with 1 Axes>"
            ],
            "image/png": "[encoded data removed]"
          },
          "metadata": {}
        }
      ],
      "source": [
        "counts = df['Category'].value_counts()\n",
        "labels = df['Category'].unique()\n",
        "plt.figure(figsize=(15,10))\n",
        "\n",
        "plt.pie(counts,labels=labels,autopct='%1.1f%%',shadow=True, colors=plt.cm.coolwarm(np.linspace(0,1,3)))\n",
        "plt.show()"
      ]
    },
    {
      "cell_type": "markdown",
      "id": "a603705e",
      "metadata": {
        "id": "a603705e"
      },
      "source": [
        "# Exploring Resume"
      ]
    },
    {
      "cell_type": "code",
      "execution_count": 10,
      "id": "2af8e609",
      "metadata": {
        "colab": {
          "base_uri": "https://localhost:8080/",
          "height": 36
        },
        "id": "2af8e609",
        "outputId": "387272a7-b60f-4afc-c3ae-e5ff93aa2dd4"
      },
      "outputs": [
        {
          "output_type": "execute_result",
          "data": {
            "text/plain": [
              "'HR'"
            ],
            "application/vnd.google.colaboratory.intrinsic+json": {
              "type": "string"
            }
          },
          "metadata": {},
          "execution_count": 10
        }
      ],
      "source": [
        "df['Category'][0]"
      ]
    },
    {
      "cell_type": "code",
      "execution_count": 11,
      "id": "be4a0703",
      "metadata": {
        "colab": {
          "base_uri": "https://localhost:8080/",
          "height": 163
        },
        "id": "be4a0703",
        "outputId": "1eb74cbd-162e-4d99-d94a-df94ff5fc8ad"
      },
      "outputs": [
        {
          "output_type": "execute_result",
          "data": {
            "text/plain": [
              "\"         HR ADMINISTRATOR/MARKETING ASSOCIATE\\n\\nHR ADMINISTRATOR       Summary     Dedicated Customer Service Manager with 15+ years of experience in Hospitality and Customer Service Management.   Respected builder and leader of customer-focused teams; strives to instill a shared, enthusiastic commitment to customer service.         Highlights         Focused on customer satisfaction  Team management  Marketing savvy  Conflict resolution techniques     Training and development  Skilled multi-tasker  Client relations specialist           Accomplishments      Missouri DOT Supervisor Training Certification  Certified by IHG in Customer Loyalty and Marketing by Segment   Hilton Worldwide General Manager Training Certification  Accomplished Trainer for cross server hospitality systems such as    Hilton OnQ  ,   Micros    Opera PMS   , Fidelio    OPERA    Reservation System (ORS) ,   Holidex    Completed courses and seminars in customer service, sales strategies, inventory control, loss prevention, safety, time management, leadership and performance assessment.        Experience      HR Administrator/Marketing Associate\\n\\nHR Administrator     Dec 2013   to   Current      Company Name   －   City  ,   State     Helps to develop policies, directs and coordinates activities such as employment, compensation, labor relations, benefits, training, and employee services.  Prepares employee separation notices and related documentation  Keeps records of benefits plans participation such as insurance and pension plan, personnel transactions such as hires, promotions, transfers, performance reviews, and terminations, and employee statistics for government reporting.  Advises management in appropriate resolution of employee relations issues.  Administers benefits programs such as life, health, dental, insurance, pension plans, vacation, sick leave, leave of absence, and employee assistance.     Marketing Associate \\xa0   Designed and created marketing collateral for sales meetings, trade shows and company executives.  Managed the in-house advertising program consisting of print and media collateral pieces.  Assisted in the complete design and launch of the company's website in 2 months.  Created an official company page on Facebook to facilitate interaction with customers.  Analyzed ratings and programming features of competitors to evaluate the effectiveness of marketing strategies.         Advanced Medical Claims Analyst     Mar 2012   to   Dec 2013      Company Name   －   City  ,   State     Reviewed medical bills for the accuracy of the treatments, tests, and hospital stays prior to sanctioning the claims.  Trained to interpret the codes (ICD-9, CPT) and terminology commonly used in medical billing to fully understand the paperwork that is submitted by healthcare providers.  Required to have organizational and analytical skills as well as computer skills, knowledge of medical terminology and procedures, statistics, billing standards, data analysis and laws regarding medical billing.         Assistant General Manager     Jun 2010   to   Dec 2010      Company Name   －   City  ,   State     Performed duties including but not limited to, budgeting and financial management, accounting, human resources, payroll and purchasing.  Established and maintained close working relationships with all departments of the hotel to ensure maximum operation, productivity, morale and guest service.  Handled daily operations and reported directly to the corporate office.  Hired and trained staff on overall objectives and goals with an emphasis on high customer service.  Marketing and Advertising, working on public relations with the media, government and local businesses and Chamber of Commerce.         Executive Support / Marketing Assistant     Jul 2007   to   Jun 2010      Company Name   －   City  ,   State     Provided assistance to various department heads - Executive, Marketing, Customer Service, Human Resources.  Managed front-end operations to ensure friendly and efficient transactions.  Ensured the swift resolution of customer issues to preserve customer loyalty while complying with company policies.  Exemplified the second-to-none customer service delivery in all interactions with customers and potential clients.         Reservation & Front Office Manager     Jun 2004   to   Jul 2007      Company Name   －   City  ,   State          Owner/ Partner     Dec 2001   to   May 2004      Company Name   －   City  ,   State          Price Integrity Coordinator     Aug 1999   to   Dec 2001      Company Name   －   City  ,   State          Education      N/A  ,   Business Administration   1999     Jefferson College   －   City  ,   State       Business Administration  Marketing / Advertising         High School Diploma  ,   College Prep. studies   1998     Sainte Genevieve Senior High   －   City  ,   State       Awarded American Shrubel Leadership Scholarship to Jefferson College         Skills     Accounting, ads, advertising, analytical skills, benefits, billing, budgeting, clients, Customer Service, data analysis, delivery, documentation, employee relations, financial management, government relations, Human Resources, insurance, labor relations, layout, Marketing, marketing collateral, medical billing, medical terminology, office, organizational, payroll, performance reviews, personnel, policies, posters, presentations, public relations, purchasing, reporting, statistics, website.    \""
            ],
            "application/vnd.google.colaboratory.intrinsic+json": {
              "type": "string"
            }
          },
          "metadata": {},
          "execution_count": 11
        }
      ],
      "source": [
        "df['Resume_str'][0]"
      ]
    },
    {
      "cell_type": "markdown",
      "id": "090ed112",
      "metadata": {
        "id": "090ed112"
      },
      "source": [
        "# Balance Classes (Categories)"
      ]
    },
    {
      "cell_type": "code",
      "execution_count": 12,
      "id": "601086b2",
      "metadata": {
        "colab": {
          "base_uri": "https://localhost:8080/"
        },
        "id": "601086b2",
        "outputId": "e286edc4-0ef5-4773-d36b-af0194ed8dd0"
      },
      "outputs": [
        {
          "output_type": "stream",
          "name": "stdout",
          "text": [
            "Original Category Distribution:\n",
            "Category\n",
            "INFORMATION-TECHNOLOGY    120\n",
            "BUSINESS-DEVELOPMENT      120\n",
            "ADVOCATE                  118\n",
            "CHEF                      118\n",
            "ENGINEERING               118\n",
            "ACCOUNTANT                118\n",
            "FINANCE                   118\n",
            "FITNESS                   117\n",
            "AVIATION                  117\n",
            "SALES                     116\n",
            "BANKING                   115\n",
            "HEALTHCARE                115\n",
            "CONSULTANT                115\n",
            "CONSTRUCTION              112\n",
            "PUBLIC-RELATIONS          111\n",
            "HR                        110\n",
            "DESIGNER                  107\n",
            "ARTS                      103\n",
            "TEACHER                   102\n",
            "APPAREL                    97\n",
            "DIGITAL-MEDIA              96\n",
            "AGRICULTURE                63\n",
            "AUTOMOBILE                 36\n",
            "BPO                        22\n",
            "Name: count, dtype: int64\n",
            "\n",
            "Balanced Category Distribution (After Oversampling):\n",
            "Category\n",
            "CONSULTANT                120\n",
            "DIGITAL-MEDIA             120\n",
            "TEACHER                   120\n",
            "HEALTHCARE                120\n",
            "BPO                       120\n",
            "ACCOUNTANT                120\n",
            "AUTOMOBILE                120\n",
            "PUBLIC-RELATIONS          120\n",
            "SALES                     120\n",
            "ARTS                      120\n",
            "DESIGNER                  120\n",
            "AVIATION                  120\n",
            "INFORMATION-TECHNOLOGY    120\n",
            "CONSTRUCTION              120\n",
            "CHEF                      120\n",
            "BANKING                   120\n",
            "BUSINESS-DEVELOPMENT      120\n",
            "FITNESS                   120\n",
            "FINANCE                   120\n",
            "ENGINEERING               120\n",
            "HR                        120\n",
            "APPAREL                   120\n",
            "AGRICULTURE               120\n",
            "ADVOCATE                  120\n",
            "Name: count, dtype: int64\n"
          ]
        },
        {
          "output_type": "stream",
          "name": "stderr",
          "text": [
            "<ipython-input-12-58fa04a1b064>:9: DeprecationWarning: DataFrameGroupBy.apply operated on the grouping columns. This behavior is deprecated, and in a future version of pandas the grouping columns will be excluded from the operation. Either pass `include_groups=False` to exclude the groupings or explicitly select the grouping columns after groupby to silence this warning.\n",
            "  balanced_df = df.groupby('Category').apply(lambda x: x.sample(max_size, replace=True)).reset_index(drop=True)\n"
          ]
        }
      ],
      "source": [
        "# Check the original category distribution\n",
        "print(\"Original Category Distribution:\")\n",
        "print(df['Category'].value_counts())\n",
        "\n",
        "# Get the largest category size (i.e., the category with the maximum number of entries)\n",
        "max_size = df['Category'].value_counts().max()\n",
        "\n",
        "# Perform oversampling\n",
        "balanced_df = df.groupby('Category').apply(lambda x: x.sample(max_size, replace=True)).reset_index(drop=True)\n",
        "\n",
        "# Shuffle the dataset to avoid any order bias\n",
        "df = balanced_df.sample(frac=1).reset_index(drop=True)\n",
        "\n",
        "# Check the balanced category distribution\n",
        "print(\"\\nBalanced Category Distribution (After Oversampling):\")\n",
        "print(df['Category'].value_counts())"
      ]
    },
    {
      "cell_type": "markdown",
      "id": "70154dfa",
      "metadata": {
        "id": "70154dfa"
      },
      "source": [
        "# Cleaning Data\n",
        "#### (URLs, Hashtags, Mentions, Special Letters, Punctuations)"
      ]
    },
    {
      "cell_type": "code",
      "execution_count": 13,
      "id": "f8b119e4",
      "metadata": {
        "id": "f8b119e4"
      },
      "outputs": [],
      "source": [
        "import re\n",
        "\n",
        "def cleanResume(txt):\n",
        "    cleanText = re.sub(r'http\\S+\\s', ' ', txt)\n",
        "    cleanText = re.sub(r'RT', ' ', cleanText)\n",
        "    cleanText = re.sub(r'#\\S+\\s', ' ', cleanText)\n",
        "    cleanText = re.sub(r'@\\S+', '  ', cleanText)\n",
        "    cleanText = re.sub(r'[%s]' % re.escape(r\"\"\"!\"#$%&'()*+,-./:;<=>?@[\\]^_`{|}~\"\"\"), ' ', cleanText)\n",
        "    cleanText = re.sub(r'[^\\x00-\\x7f]', ' ', cleanText)\n",
        "    cleanText = re.sub(r'\\s+', ' ', cleanText)\n",
        "    return cleanText\n"
      ]
    },
    {
      "cell_type": "code",
      "execution_count": 14,
      "id": "9025caf5",
      "metadata": {
        "colab": {
          "base_uri": "https://localhost:8080/",
          "height": 36
        },
        "id": "9025caf5",
        "outputId": "8bc1c468-0386-48d8-edce-2a90030c9b70"
      },
      "outputs": [
        {
          "output_type": "execute_result",
          "data": {
            "text/plain": [
              "'my website is like this and access it '"
            ],
            "application/vnd.google.colaboratory.intrinsic+json": {
              "type": "string"
            }
          },
          "metadata": {},
          "execution_count": 14
        }
      ],
      "source": [
        "cleanResume(\"my #### $ #  #suchismita's website is like this http://helloworld and access it @gmail.com\")"
      ]
    },
    {
      "cell_type": "code",
      "execution_count": 15,
      "id": "9c523d97",
      "metadata": {
        "id": "9c523d97"
      },
      "outputs": [],
      "source": [
        "df['Resume_str'] = df['Resume_str'].apply(lambda x: cleanResume(x))"
      ]
    },
    {
      "cell_type": "code",
      "execution_count": 16,
      "id": "49efe4cc",
      "metadata": {
        "colab": {
          "base_uri": "https://localhost:8080/",
          "height": 163
        },
        "id": "49efe4cc",
        "outputId": "dd3006fe-14c0-4f15-a69b-a1c7008a72d0"
      },
      "outputs": [
        {
          "output_type": "execute_result",
          "data": {
            "text/plain": [
              "' CONSULTANT Professional Profile Highly motivated and self driven Systems Analyst with vast experience in various environments and technologies in support of multiple departments across the enterprise Expertise in Software Development Lifecycle SDLC and Computer Systems Validation CSV Looking for an opportunity to apply and develop strong analytical skills and problem solving techniques Qualifications Documentum DCM and Documentum D2 MS Access VBA C C some HTML Assembly language programming Project leadership strong technical skills analytical skills problem solving skills organizational skills and communication skills Systems analyst general application support software development data communications System administration Expertise in SDLC on small to large projects Proficient in SDLC and Computer Systems Validation Requirements and Documentation Experience Consultant January 1999 to November 2015 Company Name City State Provides consultant expertise in various roles supporting McNeil Consumer Healthcare including but not limited to the following applications shop floor application document management application timekeeper application business process applications Knowledgeable in the SDLC process and GxP SOX compliant applications Most supported applications have been FDA validated applications requiring significant Computer System Validation experience Project Leadership roles in several projects including application upgrades Provides support to a GxP compliant document management application based on Documentum D2 as well as older Documentum DCM environments Support includes detailed analysis of issues including document transformation printing issues reporting and general user troubleshooting Providing Level 2 Production Application support attend to user requests through ITSM and emails Monitoring the Support Mailbox during the Support hours Generating Scheduled and Adhoc Reports for Users Daily Consistency Checks to ensure proper functioning of the servers services and Documentum jobs and other related activities Bug fixing in the application supported that may require Change Requests Providing solutions to minor Enhancements in the Application that requires Change Requests Responsible for Doing Root cause analysis for recurring issues Escalating to Level 3 Support application Core Team where issue is out of scope of Level 2 Follow up with different support groups like Windows Team DBA Team as and when needed Monitoring the Validation Environment to ensure proper functioning Monitoring the Training Environment to ensure User Training can run smoothly Provides support to SOX compliant payroll application which tracks the hourly wage employees times and reports into the J J corporate system Provides support to multiple Microsoft Access database and applications Prior support including designing developing and testing VBA code in the databases and Excel spreadsheets Provided support to FDA validated manufacturing application that aided the shop floor in reporting activities involved in the manufacturing process as well as creating managing and reporting on non conformances Involved in various roles and projects to support IT rollouts and upgrades of the Windows operating system Consultant January 1990 to January 1999 Company Name Provided consultant expertise to customers in various roles and expertise including but not limited to the following responsibilities Provided design development testing and support for Client server messaging application to provide the communication between VAX and IBM systems for a large steel company Provided design development testing and support for and electronic batch record application within a large team consisting of consultants and customer Provided relational database expertise on multiple projects for various applications and technologies Provided training for several Digital products to customers Provided system administration support to several customers Systems Programmer January 1985 to January 1990 Company Name City State Designed developed tested and supported a real time client server application to provide messaging communications from a VAX VMS application to an IBM application The application tracked the movement if trains and locations The application was originally written in assembly language and later converted to C Provided general system and network administration support Education M S Computer Science Data Communications 1996 Villanova University City State Computer Science Data Communications B A Computer Science 1985 LaSalle University City State Computer Science Skills analytical skills Assembly language C C Client server communication skills consultant Data communications database and applications DBA databases designing document management Documentation Documentum some HTML IBM managing manufacturing process messaging Microsoft Access MS Access Excel spreadsheets Windows operating system Windows Windows 2000 Windows XP network administration Operating Systems organizational skills payroll programming Project Leadership real time relational database reporting SDLC servers System administration User Training troubleshooting upgrades Validation VAX VAX VMS Vista VBA Windows Server written '"
            ],
            "application/vnd.google.colaboratory.intrinsic+json": {
              "type": "string"
            }
          },
          "metadata": {},
          "execution_count": 16
        }
      ],
      "source": [
        "df['Resume_str'][0]"
      ]
    },
    {
      "cell_type": "markdown",
      "id": "148c29e4",
      "metadata": {
        "id": "148c29e4"
      },
      "source": [
        "# Words into Categorical Values"
      ]
    },
    {
      "cell_type": "code",
      "execution_count": 17,
      "id": "3d8005a2",
      "metadata": {
        "id": "3d8005a2"
      },
      "outputs": [],
      "source": [
        "from sklearn.preprocessing import LabelEncoder\n",
        "le = LabelEncoder()"
      ]
    },
    {
      "cell_type": "code",
      "execution_count": 18,
      "id": "2289077e",
      "metadata": {
        "id": "2289077e"
      },
      "outputs": [],
      "source": [
        "le.fit(df['Category'])\n",
        "df['Category'] = le.transform(df['Category'])"
      ]
    },
    {
      "cell_type": "code",
      "execution_count": 19,
      "id": "03abad78",
      "metadata": {
        "colab": {
          "base_uri": "https://localhost:8080/"
        },
        "id": "03abad78",
        "outputId": "baf4f14d-4c81-4110-df52-90b0679ca2d6"
      },
      "outputs": [
        {
          "output_type": "execute_result",
          "data": {
            "text/plain": [
              "array([12, 14, 23, 18,  8,  0,  5, 21, 22,  4, 13,  6, 20, 11, 10,  7,  9,\n",
              "       17, 16, 15, 19,  3,  2,  1])"
            ]
          },
          "metadata": {},
          "execution_count": 19
        }
      ],
      "source": [
        "df.Category.unique()"
      ]
    },
    {
      "cell_type": "markdown",
      "id": "78c4c4bf",
      "metadata": {
        "id": "78c4c4bf"
      },
      "source": [
        "# Vectorization"
      ]
    },
    {
      "cell_type": "code",
      "execution_count": 20,
      "id": "b060ba03",
      "metadata": {
        "id": "b060ba03"
      },
      "outputs": [],
      "source": [
        "from sklearn.feature_extraction.text import TfidfVectorizer\n",
        "tfidf = TfidfVectorizer(stop_words='english')\n",
        "\n",
        "tfidf.fit(df['Resume_str'])\n",
        "requiredText  = tfidf.transform(df['Resume_str'])"
      ]
    },
    {
      "cell_type": "markdown",
      "id": "1aa854f7",
      "metadata": {
        "id": "1aa854f7"
      },
      "source": [
        "# Splitting"
      ]
    },
    {
      "cell_type": "code",
      "execution_count": 21,
      "id": "a79b8243",
      "metadata": {
        "id": "a79b8243"
      },
      "outputs": [],
      "source": [
        "from sklearn.model_selection import train_test_split\n",
        "X_train, X_test, y_train, y_test = train_test_split(requiredText, df['Category'], test_size=0.2, random_state=42)"
      ]
    },
    {
      "cell_type": "code",
      "execution_count": 22,
      "id": "17e1dc9c",
      "metadata": {
        "colab": {
          "base_uri": "https://localhost:8080/"
        },
        "id": "17e1dc9c",
        "outputId": "8ac872f1-4215-4712-bc56-bfc7484f886d"
      },
      "outputs": [
        {
          "output_type": "execute_result",
          "data": {
            "text/plain": [
              "(2304, 32829)"
            ]
          },
          "metadata": {},
          "execution_count": 22
        }
      ],
      "source": [
        "X_train.shape"
      ]
    },
    {
      "cell_type": "code",
      "execution_count": 23,
      "id": "c1792744",
      "metadata": {
        "colab": {
          "base_uri": "https://localhost:8080/"
        },
        "id": "c1792744",
        "outputId": "e3c76882-5bcc-467b-b2cd-b2fa3753063f"
      },
      "outputs": [
        {
          "output_type": "execute_result",
          "data": {
            "text/plain": [
              "(576, 32829)"
            ]
          },
          "metadata": {},
          "execution_count": 23
        }
      ],
      "source": [
        "X_test.shape"
      ]
    },
    {
      "cell_type": "markdown",
      "id": "36f7abdf",
      "metadata": {
        "id": "36f7abdf"
      },
      "source": [
        "# Training the Model and Printing Classification Report"
      ]
    },
    {
      "cell_type": "code",
      "execution_count": 24,
      "id": "2e14d2df",
      "metadata": {
        "colab": {
          "base_uri": "https://localhost:8080/"
        },
        "id": "2e14d2df",
        "outputId": "c8b8bf7d-99fb-4f4e-eb0d-d774d334226c"
      },
      "outputs": [
        {
          "output_type": "stream",
          "name": "stdout",
          "text": [
            "\n",
            "KNeighborsClassifier Results:\n",
            "Accuracy: 0.6615\n",
            "Confusion Matrix:\n",
            "[[19  0  0  1  0  1  0  0  0  0  0  0  0  0  0  0  0  0  0  0  0  1  0  0]\n",
            " [ 0  4  0  0  0  4  0  0  1  2  0  0  1  0  0  0  0  1  6  0  0  1  1  5]\n",
            " [ 3  1 13  0  0  0  0  0  0  2  0  0  0  0  0  0  0  3  0  0  1  0  2  1]\n",
            " [ 1  7  0 11  0  0  0  0  0  2  0  0  0  1  1  0  0  0  0  0  0  1  0  2]\n",
            " [ 0  2  1  1  9  0  0  0  0  3  3  0  1  0  2  0  0  0  1  0  1  1  0  1]\n",
            " [ 0  0  0  0  0 27  0  0  4  0  0  0  1  1  0  0  0  0  1  0  0  0  0  0]\n",
            " [ 0  1  0  0  0  0  9  0  0  0  1  1  0  0  0  4  0  1  1  1  1  0  1  0]\n",
            " [ 0  0  0  0  0  0  0 10  1  0  0  0  1  0  0  0  2  0  2  0  3  0  0  0]\n",
            " [ 0  0  0  0  0  0  0  0 25  0  0  0  0  0  0  0  0  0  0  0  0  0  0  0]\n",
            " [ 0  0  0  0  0  0  0  5  0 13  0  0  0  0  0  0  0  0  1  0  0  0  1  0]\n",
            " [ 0  0  0  1  0  0  0  0  0  0 23  0  1  0  0  0  0  1  1  0  0  0  0  0]\n",
            " [ 0  0  0  0  0  0  1  0  0  0  0 18  0  0  0  1  0  0  0  0  0  0  0  0]\n",
            " [ 2  0  0  0  0  2  0  0  2  0  2  0  8  2  1  3  0  0  1  1  1  0  0  0]\n",
            " [ 0  0  0  0  0  1  0  0  0  0  0  1  1 10  0  2  0  1  0  0  0  1  0  1]\n",
            " [ 0  0  0  2  0  0  0  0  0  0  0  0  1  0 15  0  0  0  0  0  0  3  0  0]\n",
            " [ 0  0  0  0  0  0  0  0  0  0  0  0  0  1  0 19  0  0  0  0  0  0  0  0]\n",
            " [ 8  0  0  0  0  0  0  0  0  1  0  4  0  0  1  0 10  0  0  3  1  0  0  0]\n",
            " [ 0  0  0  0  0  1  0  0  0  0  0  0  0  0  0  0  0 12  0  1  0  1  1  1]\n",
            " [ 0  0  0  0  0  0  0  0  1  1  0  0  0  0  0  0  0  0 16  0  0  0  0  0]\n",
            " [ 0  0  0  0  1  0  0  0  0  0  0  0  0  0  1  0  0  0  1 23  0  0  0  0]\n",
            " [ 0  0  1  1  0  0  0  0  0  0  0  0  0  1  0  0  0  0  1  0 24  1  1  0]\n",
            " [ 0  0  1  0  0  0  0  0  0  1  0  0  0  1  0  0  0  0  0  0  0 21  0  0]\n",
            " [ 0  2  0  2  0  1  0  0  0  2  0  0  1  0  0  0  0  1  2  0  0  0 22  1]\n",
            " [ 1  0  0  0  0  0  0  0  0  0  0  0  0  0  0  0  0  0  2  0  0  0  0 20]]\n",
            "Classification Report:\n",
            "              precision    recall  f1-score   support\n",
            "\n",
            "           0       0.56      0.86      0.68        22\n",
            "           1       0.24      0.15      0.19        26\n",
            "           2       0.81      0.50      0.62        26\n",
            "           3       0.58      0.42      0.49        26\n",
            "           4       0.90      0.35      0.50        26\n",
            "           5       0.73      0.79      0.76        34\n",
            "           6       0.90      0.43      0.58        21\n",
            "           7       0.67      0.53      0.59        19\n",
            "           8       0.74      1.00      0.85        25\n",
            "           9       0.48      0.65      0.55        20\n",
            "          10       0.79      0.85      0.82        27\n",
            "          11       0.75      0.90      0.82        20\n",
            "          12       0.50      0.32      0.39        25\n",
            "          13       0.59      0.56      0.57        18\n",
            "          14       0.71      0.71      0.71        21\n",
            "          15       0.66      0.95      0.78        20\n",
            "          16       0.83      0.36      0.50        28\n",
            "          17       0.60      0.71      0.65        17\n",
            "          18       0.44      0.89      0.59        18\n",
            "          19       0.79      0.88      0.84        26\n",
            "          20       0.75      0.80      0.77        30\n",
            "          21       0.68      0.88      0.76        24\n",
            "          22       0.76      0.65      0.70        34\n",
            "          23       0.62      0.87      0.73        23\n",
            "\n",
            "    accuracy                           0.66       576\n",
            "   macro avg       0.67      0.67      0.64       576\n",
            "weighted avg       0.68      0.66      0.65       576\n",
            "\n"
          ]
        }
      ],
      "source": [
        "from sklearn.neighbors import KNeighborsClassifier\n",
        "from sklearn.svm import SVC\n",
        "from sklearn.ensemble import RandomForestClassifier\n",
        "from sklearn.linear_model import LogisticRegression\n",
        "from sklearn.naive_bayes import GaussianNB\n",
        "from sklearn.multiclass import OneVsRestClassifier\n",
        "from sklearn.metrics import accuracy_score, confusion_matrix, classification_report\n",
        "\n",
        "# Ensure that X_train and X_test are dense if they are sparse\n",
        "X_train = X_train.toarray() if hasattr(X_train, 'toarray') else X_train\n",
        "X_test = X_test.toarray() if hasattr(X_test, 'toarray') else X_test\n",
        "\n",
        "# 1. Train KNeighborsClassifier\n",
        "knn_model = OneVsRestClassifier(KNeighborsClassifier())\n",
        "knn_model.fit(X_train, y_train)\n",
        "y_pred_knn = knn_model.predict(X_test)\n",
        "print(\"\\nKNeighborsClassifier Results:\")\n",
        "print(f\"Accuracy: {accuracy_score(y_test, y_pred_knn):.4f}\")\n",
        "print(f\"Confusion Matrix:\\n{confusion_matrix(y_test, y_pred_knn)}\")\n",
        "print(f\"Classification Report:\\n{classification_report(y_test, y_pred_knn)}\")"
      ]
    },
    {
      "cell_type": "code",
      "execution_count": 25,
      "id": "47b565fd",
      "metadata": {
        "colab": {
          "base_uri": "https://localhost:8080/"
        },
        "id": "47b565fd",
        "outputId": "92ca3f51-a5fa-4190-b357-1ca932075ce3"
      },
      "outputs": [
        {
          "output_type": "stream",
          "name": "stdout",
          "text": [
            "\n",
            "SVC Results:\n",
            "Accuracy: 0.8681\n",
            "Confusion Matrix:\n",
            "[[22  0  0  0  0  0  0  0  0  0  0  0  0  0  0  0  0  0  0  0  0  0  0  0]\n",
            " [ 0 17  0  0  0  0  0  1  0  0  0  0  0  0  0  0  0  1  3  0  0  0  2  2]\n",
            " [ 0  0 25  0  0  0  0  0  0  0  0  0  0  0  0  0  0  0  0  0  0  0  0  1]\n",
            " [ 0  0  0 21  0  0  0  0  0  0  0  0  0  0  0  0  2  1  0  0  0  0  1  1]\n",
            " [ 0  0  0  0 18  0  0  0  0  0  0  0  0  2  0  0  0  0  0  1  1  0  0  4]\n",
            " [ 0  0  0  0  0 30  0  0  0  0  0  0  0  0  0  0  0  0  0  0  1  0  3  0]\n",
            " [ 0  0  0  0  0  0 19  0  0  0  0  0  0  0  0  0  0  0  0  0  1  0  1  0]\n",
            " [ 0  0  0  0  0  0  0 15  0  0  0  0  2  0  0  1  1  0  0  0  0  0  0  0]\n",
            " [ 0  0  0  0  0  0  0  0 25  0  0  0  0  0  0  0  0  0  0  0  0  0  0  0]\n",
            " [ 0  0  0  0  0  0  0  4  0 15  0  0  0  0  0  0  0  0  1  0  0  0  0  0]\n",
            " [ 0  0  0  0  0  0  0  0  0  0 25  0  0  0  0  0  0  0  1  0  0  0  1  0]\n",
            " [ 0  0  0  0  0  0  0  0  0  0  0 20  0  0  0  0  0  0  0  0  0  0  0  0]\n",
            " [ 1  0  1  0  0  1  0  0  0  2  1  0 13  0  0  3  1  0  0  0  2  0  0  0]\n",
            " [ 0  0  0  0  0  0  0  0  0  0  0  1  0 16  0  1  0  0  0  0  0  0  0  0]\n",
            " [ 0  0  0  0  0  0  0  0  0  0  0  0  0  0 19  0  0  0  0  0  0  2  0  0]\n",
            " [ 0  0  0  0  0  0  0  0  0  0  0  0  0  0  0 20  0  0  0  0  0  0  0  0]\n",
            " [ 1  0  0  0  0  0  0  0  0  0  0  0  0  0  1  0 23  1  0  2  0  0  0  0]\n",
            " [ 0  0  0  0  0  0  0  1  0  0  0  0  0  0  0  0  0 14  0  0  0  0  1  1]\n",
            " [ 0  0  0  0  0  0  0  0  0  0  0  0  0  0  0  0  0  1 17  0  0  0  0  0]\n",
            " [ 0  0  0  0  0  0  0  0  0  0  0  0  0  0  0  0  0  0  0 24  0  1  0  1]\n",
            " [ 0  0  0  0  0  0  0  0  0  0  0  0  1  0  0  0  0  0  0  0 29  0  0  0]\n",
            " [ 0  0  0  0  0  0  0  0  0  0  0  0  0  1  0  0  0  0  0  0  0 23  0  0]\n",
            " [ 0  0  0  1  0  0  0  0  0  2  0  0  1  0  0  0  0  0  1  0  0  0 29  0]\n",
            " [ 0  0  1  0  0  0  0  0  0  0  0  0  0  0  0  0  0  0  1  0  0  0  0 21]]\n",
            "Classification Report:\n",
            "              precision    recall  f1-score   support\n",
            "\n",
            "           0       0.92      1.00      0.96        22\n",
            "           1       1.00      0.65      0.79        26\n",
            "           2       0.93      0.96      0.94        26\n",
            "           3       0.95      0.81      0.88        26\n",
            "           4       1.00      0.69      0.82        26\n",
            "           5       0.97      0.88      0.92        34\n",
            "           6       1.00      0.90      0.95        21\n",
            "           7       0.71      0.79      0.75        19\n",
            "           8       1.00      1.00      1.00        25\n",
            "           9       0.79      0.75      0.77        20\n",
            "          10       0.96      0.93      0.94        27\n",
            "          11       0.95      1.00      0.98        20\n",
            "          12       0.76      0.52      0.62        25\n",
            "          13       0.84      0.89      0.86        18\n",
            "          14       0.95      0.90      0.93        21\n",
            "          15       0.80      1.00      0.89        20\n",
            "          16       0.85      0.82      0.84        28\n",
            "          17       0.78      0.82      0.80        17\n",
            "          18       0.71      0.94      0.81        18\n",
            "          19       0.89      0.92      0.91        26\n",
            "          20       0.85      0.97      0.91        30\n",
            "          21       0.88      0.96      0.92        24\n",
            "          22       0.76      0.85      0.81        34\n",
            "          23       0.68      0.91      0.78        23\n",
            "\n",
            "    accuracy                           0.87       576\n",
            "   macro avg       0.87      0.87      0.86       576\n",
            "weighted avg       0.88      0.87      0.87       576\n",
            "\n"
          ]
        }
      ],
      "source": [
        "# 2. Train SVC\n",
        "svc_model = OneVsRestClassifier(SVC())\n",
        "svc_model.fit(X_train, y_train)\n",
        "y_pred_svc = svc_model.predict(X_test)\n",
        "print(\"\\nSVC Results:\")\n",
        "print(f\"Accuracy: {accuracy_score(y_test, y_pred_svc):.4f}\")\n",
        "print(f\"Confusion Matrix:\\n{confusion_matrix(y_test, y_pred_svc)}\")\n",
        "print(f\"Classification Report:\\n{classification_report(y_test, y_pred_svc)}\")"
      ]
    },
    {
      "cell_type": "code",
      "execution_count": 26,
      "id": "8f075258",
      "metadata": {
        "id": "8f075258",
        "colab": {
          "base_uri": "https://localhost:8080/"
        },
        "outputId": "1071f798-a1c3-400a-a343-31e13c0f7e76"
      },
      "outputs": [
        {
          "output_type": "stream",
          "name": "stdout",
          "text": [
            "\n",
            "RandomForestClassifier Results:\n",
            "Accuracy: 0.8472\n",
            "Confusion Matrix:\n",
            "[[22  0  0  0  0  0  0  0  0  0  0  0  0  0  0  0  0  0  0  0  0  0  0  0]\n",
            " [ 0 15  0  1  0  0  0  1  0  0  1  0  1  0  0  0  0  1  1  0  0  0  1  4]\n",
            " [ 0  0 23  1  0  0  0  0  0  0  0  1  0  0  0  0  0  0  0  0  0  0  0  1]\n",
            " [ 0  1  0 19  0  0  1  0  0  0  0  0  0  0  0  0  0  1  0  0  0  2  2  0]\n",
            " [ 0  0  1  0 17  0  0  0  0  0  1  1  0  0  0  0  0  0  0  0  1  0  1  4]\n",
            " [ 0  0  0  0  0 31  0  0  0  0  1  0  0  0  0  0  0  0  0  0  0  0  2  0]\n",
            " [ 0  0  0  0  0  0 20  0  0  0  0  0  0  0  0  0  0  0  0  0  1  0  0  0]\n",
            " [ 0  0  0  0  0  0  0 15  0  0  0  0  2  0  0  0  0  0  0  0  1  1  0  0]\n",
            " [ 0  0  0  0  0  0  0  0 25  0  0  0  0  0  0  0  0  0  0  0  0  0  0  0]\n",
            " [ 0  0  0  0  0  0  0  2  0 18  0  0  0  0  0  0  0  0  0  0  0  0  0  0]\n",
            " [ 0  0  0  0  0  0  0  0  0  0 25  0  0  1  0  0  0  0  1  0  0  0  0  0]\n",
            " [ 0  0  0  0  0  0  1  0  0  0  0 19  0  0  0  0  0  0  0  0  0  0  0  0]\n",
            " [ 1  0  0  0  0  0  0  1  0  1  1  0 13  0  0  3  1  0  0  1  3  0  0  0]\n",
            " [ 0  0  0  0  0  0  0  0  0  0  0  1  0 16  0  1  0  0  0  0  0  0  0  0]\n",
            " [ 0  1  0  0  0  0  0  0  0  0  0  0  0  0 18  0  0  0  0  0  0  2  0  0]\n",
            " [ 0  0  0  0  0  0  0  0  0  0  0  0  0  0  0 20  0  0  0  0  0  0  0  0]\n",
            " [ 4  0  0  1  0  0  0  0  0  0  0  1  0  0  1  0 19  0  0  2  0  0  0  0]\n",
            " [ 0  0  0  0  0  0  0  1  0  0  0  0  0  0  0  0  0 15  0  0  0  0  1  0]\n",
            " [ 0  0  0  0  0  0  0  0  0  0  0  0  0  0  0  0  0  1 17  0  0  0  0  0]\n",
            " [ 0  0  0  0  1  0  0  0  0  0  0  0  0  0  0  0  0  1  0 23  0  1  0  0]\n",
            " [ 0  0  0  0  0  0  0  0  0  0  0  0  0  1  0  0  0  0  0  0 29  0  0  0]\n",
            " [ 0  0  0  0  0  0  0  0  0  0  0  0  0  1  0  0  0  0  0  0  0 23  0  0]\n",
            " [ 0  0  0  1  2  0  0  0  0  2  2  0  0  1  0  0  0  0  0  0  1  0 25  0]\n",
            " [ 0  0  1  0  0  0  0  0  0  0  0  0  0  0  0  0  0  0  1  0  0  0  0 21]]\n",
            "Classification Report:\n",
            "              precision    recall  f1-score   support\n",
            "\n",
            "           0       0.81      1.00      0.90        22\n",
            "           1       0.88      0.58      0.70        26\n",
            "           2       0.92      0.88      0.90        26\n",
            "           3       0.83      0.73      0.78        26\n",
            "           4       0.85      0.65      0.74        26\n",
            "           5       1.00      0.91      0.95        34\n",
            "           6       0.91      0.95      0.93        21\n",
            "           7       0.75      0.79      0.77        19\n",
            "           8       1.00      1.00      1.00        25\n",
            "           9       0.86      0.90      0.88        20\n",
            "          10       0.81      0.93      0.86        27\n",
            "          11       0.83      0.95      0.88        20\n",
            "          12       0.81      0.52      0.63        25\n",
            "          13       0.80      0.89      0.84        18\n",
            "          14       0.95      0.86      0.90        21\n",
            "          15       0.83      1.00      0.91        20\n",
            "          16       0.95      0.68      0.79        28\n",
            "          17       0.79      0.88      0.83        17\n",
            "          18       0.85      0.94      0.89        18\n",
            "          19       0.88      0.88      0.88        26\n",
            "          20       0.81      0.97      0.88        30\n",
            "          21       0.79      0.96      0.87        24\n",
            "          22       0.78      0.74      0.76        34\n",
            "          23       0.70      0.91      0.79        23\n",
            "\n",
            "    accuracy                           0.85       576\n",
            "   macro avg       0.85      0.85      0.84       576\n",
            "weighted avg       0.85      0.85      0.84       576\n",
            "\n"
          ]
        }
      ],
      "source": [
        "# 3. Train RandomForestClassifier\n",
        "rf_model = OneVsRestClassifier(RandomForestClassifier())\n",
        "rf_model.fit(X_train, y_train)\n",
        "y_pred_rf = rf_model.predict(X_test)\n",
        "print(\"\\nRandomForestClassifier Results:\")\n",
        "print(f\"Accuracy: {accuracy_score(y_test, y_pred_rf):.4f}\")\n",
        "print(f\"Confusion Matrix:\\n{confusion_matrix(y_test, y_pred_rf)}\")\n",
        "print(f\"Classification Report:\\n{classification_report(y_test, y_pred_rf)}\")"
      ]
    },
    {
      "cell_type": "markdown",
      "id": "b2faa364",
      "metadata": {
        "id": "b2faa364"
      },
      "source": [
        "# Saving Files"
      ]
    },
    {
      "cell_type": "code",
      "execution_count": 28,
      "id": "5dd43048",
      "metadata": {
        "id": "5dd43048"
      },
      "outputs": [],
      "source": [
        "import pickle\n",
        "pickle.dump(tfidf,open('/content/model/tfidf.pkl','wb'))\n",
        "pickle.dump(svc_model, open('/content/model/clf.pkl', 'wb'))\n",
        "pickle.dump(le, open(\"/content/model/encoder.pkl\",'wb'))"
      ]
    },
    {
      "cell_type": "markdown",
      "id": "f48ce338",
      "metadata": {
        "id": "f48ce338"
      },
      "source": [
        "# Prediction System"
      ]
    },
    {
      "cell_type": "code",
      "execution_count": 29,
      "id": "915165b5",
      "metadata": {
        "id": "915165b5"
      },
      "outputs": [],
      "source": [
        "# Function to predict the category of a resume\n",
        "def pred(input_resume):\n",
        "    # Preprocess the input text (e.g., cleaning, etc.)\n",
        "    cleaned_text = cleanResume(input_resume)\n",
        "\n",
        "    # Vectorize the cleaned text using the same TF-IDF vectorizer used during training\n",
        "    vectorized_text = tfidf.transform([cleaned_text])\n",
        "\n",
        "    # Convert sparse matrix to dense\n",
        "    vectorized_text = vectorized_text.toarray()\n",
        "\n",
        "    # Prediction\n",
        "    predicted_category = svc_model.predict(vectorized_text)\n",
        "\n",
        "    # get name of predicted category\n",
        "    predicted_category_name = le.inverse_transform(predicted_category)\n",
        "\n",
        "    return predicted_category_name[0]  # Return the category name"
      ]
    },
    {
      "cell_type": "code",
      "execution_count": 31,
      "id": "a3091c8f",
      "metadata": {
        "id": "a3091c8f",
        "colab": {
          "base_uri": "https://localhost:8080/",
          "height": 36
        },
        "outputId": "7bcfc725-830c-4a06-c715-c3408f0de945"
      },
      "outputs": [
        {
          "output_type": "execute_result",
          "data": {
            "text/plain": [
              "'TEACHER'"
            ],
            "application/vnd.google.colaboratory.intrinsic+json": {
              "type": "string"
            }
          },
          "metadata": {},
          "execution_count": 31
        }
      ],
      "source": [
        "myresume = \"\"\"Marilyn Hunter\n",
        " Summary\n",
        " Focused on providing professional service and support to every office visitor. Diligent about scheduling appointments, managing packages and\n",
        " routing mail to recipients. Positive nature with excellent people skills.\n",
        " Flexible hard worker ready to learn and contribute to team success.\n",
        " Skills\n",
        " Behavior modeling\n",
        " Compliance\n",
        " Leadership\n",
        " Teambuilding\n",
        " Work ethic\n",
        " Multitasking\n",
        " Active listening\n",
        " Troubleshooting\n",
        " Individualized care\n",
        " Multi-line telephone skills\n",
        " Office equipment operations\n",
        " Organization and efficiency\n",
        " Meticulous and organized\n",
        " Security understanding\n",
        " Experience\n",
        " Substitute Teacher | Company Name - City , State | 08/2015 - 03/2020\n",
        " Enforced classroom routines to keep students on schedule and operating at consistent level.\n",
        " Implemented lesson plans assigned by classroom teacher to educate students about key concepts.\n",
        " Provided notes and reports on school day activities to primary teacher.\n",
        " Requested as substitute teacher based on excellent referrals and trusted performance.\n",
        " Engaged students in discussions to promote interest and drive learning.\n",
        " Educated students in various subjects to provide seamless transition during absence of head teacher.\n",
        " Maintained student attendance and assignment records to prevent lapses during teacher absences.\n",
        " Differentiated classroom and small group instruction to meet needs of students with various learning styles and abilities.\n",
        " Helped students build learning and study skills to achieve educational goals.\n",
        " Engaged students and boosted understanding of material using focused instructional strategies and hands-on activities.\n",
        " Reported problem students to principal to maintain control of classroom.\n",
        " Managed high school classrooms during teacher absences.\n",
        " Stayed up to date with current regional curriculums to maintain readiness for long- and short-term substitute jobs.\n",
        " Oversaw pop quizzes, material exams and standardized tests to facilitate instruction.\n",
        " Assigned homework to students based on curricula and modified based on daily progress.\n",
        " Promoted learning by leveraging traditional and modern instructional strategies.\n",
        " Created lesson plans to address requirements of state curriculum.\n",
        " Led group sessions to reinforce concepts and applications of course content.\n",
        " Assisted fellow teachers with assignment development, special projects, tests, administrative updates and grading.\n",
        " Recorded attendance data to report to program managers.\n",
        " Taught reading, language arts, mathematics and other subjects utilizing course of study adopted by Board of Education.\n",
        " Administered quizzes and tests and documented grades to support accurate record-keeping.\n",
        " Taught students during teacher absences and kept up with lesson plans and student assignments.\n",
        " Substituted for teachers to practice handling classrooms of students.\n",
        " Elementary Computer Teacher | Company Name - City , State | 08/1999 - 09/2002\n",
        " Created tests and assignments to assess student knowledge of presented coursework and lecture materials.\n",
        " Facilitated computer lab sessions, supervising such tasks as penetration testing, coding and script creation.\n",
        " Developed lectures addressing variety of computer science topics to engage and educate students.\n",
        " Built and expanded knowledge of IT trends by attending professional events, including workshops, seminars and conferences.\n",
        " Assisted students with developing thesis topics by offering suggestions and contacting appropriate research sources.\n",
        " Instructed students on use of technology tools and equipment as well as methods for accessing information.\n",
        " Set up and maintained classroom computers and equipment.\n",
        " Provided instruction on professional technology use and web etiquette.\n",
        " Devised project-based assignments to create opportunity for hands-on practice and skill building.\n",
        " Scored student assignments to measure comprehension.\n",
        " Attended seminars and workshops to discover latest advances in computer education.\n",
        " Crafted educational, straightforward and visually appealing slideshow presentations to guide lectures.\n",
        " Evaluated and adjusted course curriculum based on student overall performance and assessments.\n",
        " Receptionist | Company Name - City , State | 08/1998 - 06/1999\n",
        " Scheduled and confirmed appointments.\n",
        " Answered and directed incoming calls using multi-line telephone system.\n",
        " Delivered administrative support to team members, including making copies, sending faxes, organizing documents and rearranging schedules.\n",
        "Maintained daily calendars, set appointments with clients and planned daily o fice events.\n",
        " Sorted incoming mail and directed to correct personnel each day.\n",
        " Oversaw o fice inventory by restocking supplies and submiting purchase orders.\n",
        " Screened and verified visitors for identification credentials and purpose of visit to maintain security of personnel and o fice environment.\n",
        " Prepared packages for shipment by generating packing slips and se ting up courier deliveries.\n",
        " Directed and oversaw o fice personnel activities.\n",
        " Answered phone cals, provided information to calers and connected calers to appropriate people.\n",
        " Welcomed patrons to front desk and engaged in friendly conversations while conducting check-in process.\n",
        " Managed customer complaints and rectified issues to complete satisfaction.\n",
        " Managed o fice paperwork, including scanning documents and routing business correspondence.\n",
        " Puled and organized requested documentation.\n",
        " Greeted visitors and directed them to appropriate areas, verifying reasons for visit and verified information.\n",
        " Determined needs of visitors and provided information or solutions.\n",
        " Signed for packages, recorded al deliveries and distributed to personnel.\n",
        " Delivered key administrative support to coworkers, taking on additional tasks during peak times.\n",
        " Maintained accurate bookkeeping of important files and ran reports and delivered updates on occupancy and revenues to supervisor.\n",
        " Maintained o fice safety by screening visitors, updating logs and issuing temporary passes.\n",
        " Education and Training\n",
        " Albany State University | City , State | 05/1986 Bachelor of Science : Psychology\n",
        "\"\"\"\n",
        "\n",
        "pred(myresume)"
      ]
    },
    {
      "cell_type": "code",
      "source": [
        "myresume = \"\"\"EXECUTIVE CHEF\n",
        " Professional Summary\n",
        " To join an organization that wil alow me to apply my experience and knowledge.\n",
        " Skils\n",
        " Work History\n",
        " Executive Chef , 01/2008 to Current\n",
        "Company Name â€“ City , State\n",
        "Prepare daily meal preparation for 500 & 4000 man \"Work Force Camps\" in remote locations with 4 daily meals and transportable\n",
        " lunches.\n",
        " Provision & Prepare meals for Commercial Fishing crews of 250 Individuals.\n",
        " Develop and cost menu items for targeted food cost.\n",
        " Establish & maintain purveyor relationships.\n",
        " Negotiate property, equipment leases and sales.\n",
        " Oversee Food & Beverage operations for multiple site locations to include administration of weekly purchasing budget.\n",
        " Establish par/prep standards, i.e.\n",
        " FIFO, label and dating foods.\n",
        " Perform/Train sta f in al \"line\" positions & FOH/BOH functions as required.\n",
        " Interview, hire, train & review employees as necessary.\n",
        " Maintain consistent interviewing and hiring practices.\n",
        " Develop and create al banquet/catering menus.\n",
        " Plan al private and special events.\n",
        " Maintain consistent HACCP, Serve-Safe and Alcohol Service standards and relative documentation wherever required.\n",
        " Direct Supervision of 25-50 Employees.\n",
        " Oversee al Retail operations.\n",
        " Recipe Design/Menu Engineering.\n",
        " Manage procurement & Logistics for al outlets Retail & Hospitality Maintain High level of Customer Service Business Plan Development\n",
        " Location Evaluation Management Services Menu Design & Layout Restaurant & Brewery Design Equipment Purchasing Design\n",
        " Consultation Restaurant Systems and Policies Author employee standards manual.\n",
        " Create and facilitate al sta f training manuals and related position testing.\n",
        " Budgeting & Financial Controls Develop/implement al marketing & advertising strategies.\n",
        " Analyze and implement necessary changes to improve guest service or sta f e ficiency.\n",
        " Sales Floor Merchandising/Planograms.\n",
        " Recipe Development/Menu Engineering.\n",
        " Operations , 01/1997 to 01/2000\n",
        "Company Name â€“ City , State\n",
        "Corporate Menu Development, Costing, and Procurement/Logistics for Remote Camps Contract Negotiations for Food Brokerage and\n",
        " Shipping.\n",
        " Planning and preparing daily meals for passengers and crew.\n",
        " Vendor Relationships and price negotiations.\n",
        " Solid relationships with Culinary Unions.\n",
        " Responsible for safe and organized operation of galey.\n",
        " Organized and planned galey tours for onboard passengers.\n",
        " Positive and consistent interaction with passengers.\n",
        " Serve-Safe CFPM, HACCP USDA/FDA, Alaska, Washington, Oregon Certified Food Handler.\n",
        " Budget forecasting for al individual restaurant entities to include food, labor and beverage and diverse costs based upon specific operations.\n",
        " Operational adherence for Franchisee of 2 QSR and other Fast Food operations to include corporate oversight of Food, Labor and\n",
        " Controlable Costs.\n",
        " QSR 18-21% Ful Service 30-32% & Overal labor costs) Responsible for ordering & inventory control.\n",
        " Oversee complete Food & Beverage Operations of multiple ful service restaurants.\n",
        " Manage the production of 175-400 covers nightly with 5-8m in annual sales.\n",
        " Supervision of 475 Seasonal & Fultime Sta f with multiple locations.\n",
        " Training al FOH to include Wine & Beverage service and relative food pairings.\n",
        " Training of al BOH to include Food Handling, Safe Practices, FIFO and Kitchen Systems and recipe/plating adherence.\n",
        " Recipe Design/Menu Engineering Corporate Chef Of 10 Vessel Organization SALES/MARKETING Sales, Merchandising and delivery of\n",
        " high quality varietal wines, foods and beverages.\n",
        " Customer Service Training for Sales Sta f Overal vineyard management of 37 acres.\n",
        " Product Sales Forecasting and Ordering Trends.\n",
        " Sales Sta f Training & Merchandising.\n",
        " Develop Strategic Sales and Marketing Plan.\n",
        " Co-host weekly radio show.\n",
        " Responsible for performance reviews of al Sales & Culinary Sta f.\n",
        " Oversee Weekly Sales Meetings & Supervision of 15 Sales Sta f.\n",
        "Store Set/Re-Set According To Plan-O-Gram.\n",
        " Implement and Develop Key Performance indicators for al sta f, both Sales and Culinary Divisions.\n",
        " Create & Develop Sales Incentive Programs Primary Organizer for Community & Catering/Banquet Events.\n",
        " Implement Bi-Annual Sales Retreats.\n",
        " Route Sales.\n",
        " The above listed experience was the parent company of Food Service Associates)Castile Trucking, The Shanghai CafÃ©, Tai-Tung, Four\n",
        "Seas, Alaska Sightseeing Cruise West, Chili's of Westminster, Wendy's Of The Rockies, The Galery Restaurant & Lounge (2 Locations)\n",
        " The Quality Hotel Tacoma Dome, Crown Pacific Inn, Ernst Home Centers , Paul's Grocery, Mt Baker Vineyards & The Hungry Halibut\n",
        " Restaurant & Lounge.\n",
        " 01/1986 to 01/2008\n",
        "Education\n",
        " M.S : Hospitality Management , Wing Luke University, Shanghai Province, Peoples Republic of China -\n",
        "Hospitality Management\n",
        " B.P.S : Culinary Management , Culinary Management\n",
        " Accomplishments\n",
        " Skils\n",
        " U.S.\n",
        " Naval Culinary Training, USNTC, San Diego, Ca.\n",
        " USS Esteem MSO-438, Member of US.\n",
        " Naval Culinary Team 1977-1980 Internship-Victor Rosselini, Owner, Rosselini's 410, Sea tle, Washington Internship-Tro ter's Restaurant,\n",
        " Chicago, Ilinois LICENSES/AFFILIATIONS American Culinary Federation # 234185 C.E.C.\n",
        " SERVE SAFE #7361161, HACCP, USDA/FDA, Alaska, Washington and Oregon Food Handler's Card TIPS/TAMS Certification,\n",
        " National Restaurant Assoc, Pro-Start Mentor/Coach NSTC Certification, First-Aid, CPR & AED, TWIC, FAA Security Clearance and\n",
        " Merchant Mariner's Documents- United States Coast Guard.\n",
        " advertising, Budgeting, Budget, Bi, Business Plan Development, Consultation, Contract Negotiations, Customer Service, Customer Service\n",
        " Training, delivery, documentation, special events, Fast, Financial, forecasting, hiring, inventory control, Layout, Logistics, Marketing Plan,\n",
        " marketing, Meetings, Merchandising, negotiations, Organizer, performance reviews, Policies, Procurement, Purchasing, Quality, radio, Retail,\n",
        " SALES, Sales Forecasting, Shipping, Sta f Training, Strategic, Supervision, Author\n",
        "\"\"\"\n",
        "\n",
        "pred(myresume)"
      ],
      "metadata": {
        "colab": {
          "base_uri": "https://localhost:8080/",
          "height": 36
        },
        "id": "C4h34Fns1UzC",
        "outputId": "f13111c6-e538-444b-dd59-d0633f98f7f2"
      },
      "id": "C4h34Fns1UzC",
      "execution_count": 32,
      "outputs": [
        {
          "output_type": "execute_result",
          "data": {
            "text/plain": [
              "'CHEF'"
            ],
            "application/vnd.google.colaboratory.intrinsic+json": {
              "type": "string"
            }
          },
          "metadata": {},
          "execution_count": 32
        }
      ]
    },
    {
      "cell_type": "code",
      "source": [
        "myresume = \"\"\"ENGINEERING INTERN\n",
        " Skils\n",
        " C++, Python, MATLAB, Git, Bash, R, SQL (basic). Experienced in Linux/Unix and using high performance computing clusters.\n",
        " Machine Learning Tools and Libraries: Scikit-learn, Pandas, Seaborn, matplotlib, TensorFlow (basic). (I built a XGBoost\n",
        " model that has 77.5% accuracy in the Kaggle Titanic chalenge.)\n",
        " Computational Fluid Dynamics and Discrete Element Method Codes\n",
        " CFD-DEM, OpenFOAM, CFD-ACE+Â®, FluentÂ®, COMSOLÂ®, LAMMPS, and LIGGGHTS.\n",
        " Reservoir and Fracture Modeling Tools\n",
        " CMGÂ® for reservoir simulation; FracProÂ® for fracture simulation and analysis; Saphir for pressure transient analysis.\n",
        " Experimental and Statistical Methods\n",
        " SEM, AFM, Confocal Microscopy, Regression analysis, Statistical process control, Design of experiments.\n",
        " Experience\n",
        " ENGINEERING INTERN 08/2016 ï¼ 12/2016 Company Name State\n",
        " Project: Develop a cavings transport model for optimizing hole-cleaning operations.\n",
        " Developed a solids transport model for predicting cutings/cavings bed height during a hole-cleaning operation.\n",
        " In contrast to conventional CFD models that typicaly take several hours to run, this novel numerical model can obtain results within a few\n",
        " minutes, enabling timely optimization of the wel circulation schedule.\n",
        " Investigated the competitive landscape and designed the commercialization plan for the numerical model.\n",
        " Leveraged the experiences from internal driling experts and aligned with al stakeholders throughout the development process.\n",
        " ENGINEERING INTERN 05/2016 ï¼ 08/2016 City , State\n",
        " Project: Optimize diverter pumping schedule for be ter production performance after wel re-stimulation.\n",
        " Built a simulator to model proppant, diverter, and slurry distribution in a plug-and-perf hydraulic fracturing operation.\n",
        " Derived a simple proxy model to substitute time-consuming CFD-DEM simulations for predicting diverter transport through perforation\n",
        " clusters.\n",
        " Simulation time drops from 48+ hours to less than 1 sec.\n",
        " Provided recommendations for pumping schedule design in a fracturing treatment.\n",
        " PROCESS ENGINEER 04/2012 ï¼ 05/2013 Company Name City\n",
        " Improve display yield through statistical modeling, process control, and tool modifications.\n",
        " Won Qualstar award in Nov.\n",
        " 2012 by completing two specific yield improvement tasks in merely two months, first time for QMT-TW to award its engineers after\n",
        " establishment.\n",
        " Optimized sealing process of interferometric modulator (iMoD) display that led to 52% pre-functional yield increase.\n",
        " Increased the up time of panel encapsulation station from 73% to 92% by leading two tool-modification projects involving a group of 5\n",
        " equipment engineers and 2 external support engineers from Japan.\n",
        " PROPPANT/DIVERTER TRANSPORT in HORIZONTAL WELLS, UT Austin Aug.\n",
        " 2014-present.\n",
        " Evaluate the e ficiency of proppant/diverter transport in perforated horizontal wels under diferent slurry flow conditions using a combined\n",
        " CFD-DEM approach.\n",
        " Developed a multivariate statistical model to substitute traditional CFD model for predicting proppant transport through perforations at\n",
        " various flow conditions.\n",
        " The computational cost dropped 5 orders of magnitude.\n",
        " Accurately predicted DAS-measured proppant distribution in a field case with less than 10% error.\n",
        " Chu-Hsiang Wu Page 2 DESIGN and SELECTION of GRAVEL PACK and SAND CONTROL SCREENS, UT Austin Jun.\n",
        " 2013-present.\n",
        " Develop analytical, DEM, and Monte Carlo models for predicting sand production through gravel packs and sand control screens.\n",
        " Accurately predicted 6 sand production lab-test results obtained from operators with less than 15% error using the developed model.\n",
        " Invented a DEM-based approach for extracting pore throat size distribution of complex packings.\n",
        " Results show that the pore throat sizes within gravel packs are usualy between 1/5 to 1/9 of the e fective gravel size.\n",
        " The findings correspond remarkably wel with previous field observations and enable further optimization of gravel pack designs.\n",
        " 06/2010 Company Name\n",
        " Designed highly mixing-e ficient serpentine channels for biomedical detection.\n",
        " Devised mixing index to quantify mixing e ficiency of two heterogeneous fluids flowing in microfluidic channels.\n",
        " Interests\n",
        " SPE translator, Nepal medical assistance group, cofounder of Taiwan Bio-Nano Youth Initiative. SELECTED PUBLICATIONS Â· Wu, C.-H.,\n",
        " Sharma, M. M. 2017. A DEM-based approach for evaluating the pore throat size distribution of a filter medium, Powder Technology, ISSN\n",
        " 0032-5910, htps:/doi.org/10.1016/j.powtec.2017.09.018. Â· Wu, C.-H., Sharma, M. M., Chanpura, R. et al. 2017. Factors Governing the\n",
        " Predicted Performance of Multilayered Metal-Mesh Screens. SPE Driling & Completion. SPE-178955-PA. htps:/doi.org/10.2118/178955-PA.\n",
        "Â· Wu, C.-H., Sharma, M. M. 2016. Efect of Perforation Geometry and Orientation on Proppant Placement in Perforation Clusters in a\n",
        " Horizontal Wel. Paper SPE-179117-MS was presented at the SPE Hydraulic Fracturing Technology Conference, The Woodlands, TX, USA, 9\n",
        "11 February 2016. Wu, C.-H., Yi, S., Sharma, M. M. 2017. Proppant Distribution Among Multiple Perforation Clusters in a Horizontal\n",
        " Welbore. Paper SPE-184861-MS was presented at the SPE Hydraulic Fracturing Technology Conference, The Woodlands, TX, USA, 24-26\n",
        " January 2017. Â· Mondal, S., Wu, C.-H., Sharma, M. M. et al. 2016. Characterizing, Designing, and Selecting Metal Mesh Screens for\n",
        " Standalone-Screen Applications. SPE Dril & Compl 31 (2): 85-94. SPE-170935-PA. htp:/dx.doi.org/10.2118/170935-PA. Â· Mondal, S.,\n",
        " Wu, C.-H., Sharma, M. M. 2016. Coupled CFD-DEM Simulation of Hydrodynamic Bridging at Constrictions. Int. J. Multiph. Flow, Vol. 84, pp.\n",
        " 245-263, ISSN 0301-9322, htp:/dx.doi.org/10.1016/j.ijmultiphaseflow.2016.05.001. Â· Zhang, K., Chanpura, R. A., Mondal, S., Wu, C.-H.,\n",
        " Sharma, M. M., Ayoub, J. A., & Parlar, M. 2015. Particle Size\n",
        " Education and Training\n",
        " May 2018 Ph.D : UT Austin - PETROLEUM ENGINEERING Scientific Computation City , State PETROLEUM ENGINEERING Scientific\n",
        " Computation Dissertation: Modeling Particulate Flows in Conduits and Porous Media; Supervisor: Mukul M. Sharma 3.9/4.0 Recipient of\n",
        " ConocoPhilips Felowship (2013), and Jack L. Thurber Memorial Endowed Presidential Scholarship\n",
        " Jun. 2010 M.S : National Taiwan University - MECHANICAL ENGINEERING City , Taiwan MECHANICAL ENGINEERING Design of a\n",
        " mixing-e ficient microfluidic device for bio-medical applications 3.9/4.0\n",
        " Jun. 2008 B.S : National Tsing Hua University - POWER MECHANICAL ENGINEERING City , Taiwan POWER MECHANICAL\n",
        " ENGINEERING Presidential Award and Scholarship (2006, 2007)\n",
        " Skils\n",
        " approach, Bash, basic, C++, competitive, DAS, Design of experiments, functional, lab-test, Linux, Machine Learning, MATLAB, Modeling,\n",
        " novel, optimization, process control, Programming, proxy, Python, Simulation, SQL, Statistical process control, Supervisor, Unix\n",
        " Additional Information\n",
        " LEADERSHIP and VOLUNTEER Â· Served as a Second Lieutenant in an artilery company in the Taiwan Army during 2010-2011. Â·\n",
        " Qualstar Award, Qualcomm, 2012 and 2013 Â· Qualcomm Know-how Incentive Award, Qualcomm, 2013 Â· Technical Editor of SPE\n",
        " Journal, SPE Driling and Completion, SPE Production and Operations, 2017-present Â· Volunteer experience: SPE translator, Nepal\n",
        " medical assistance group, cofounder of Taiwan Bio-Nano Youth Initiative. SELECTED PUBLICATIONS Â· Wu, C.-H., Sharma, M. M.\n",
        " 2017. A DEM-based approach for evaluating the pore throat size distribution of a filter medium, Powder Technology, ISSN 0032-5910,\n",
        " htps:/doi.org/10.1016/j.powtec.2017.09.018. Â· Wu, C.-H., Sharma, M. M., Chanpura, R. et al. 2017. Factors Governing the Predicted\n",
        " Performance of Multilayered Metal-Mesh Screens. SPE Driling & Completion. SPE-178955-PA. htps:/doi.org/10.2118/178955-PA. Â·\n",
        " Wu, C.-H., Sharma, M. M. 2016. Efect of Perforation Geometry and Orientation on Proppant Placement in Perforation Clusters in a\n",
        " Horizontal Wel. Paper SPE-179117-MS was presented at the SPE Hydraulic Fracturing Technology Conference, The Woodlands, TX,\n",
        " USA, 9-11 February 2016. Wu, C.-H., Yi, S., Sharma, M. M. 2017. Proppant Distribution Among Multiple Perforation Clusters in a\n",
        " Horizontal Welbore. Paper SPE-184861-MS was presented at the SPE Hydraulic Fracturing Technology Conference, The Woodlands,\n",
        " TX, USA, 24-26 January 2017. Â· Mondal, S., Wu, C.-H., Sharma, M. M. et al. 2016. Characterizing, Designing, and Selecting Metal\n",
        " Mesh Screens for Standalone-Screen Applications. SPE Dril & Compl 31 (2): 85-94. SPE-170935-PA.\n",
        " htp:/dx.doi.org/10.2118/170935-PA. Â· Mondal, S., Wu, C.-H., Sharma, M. M. 2016. Coupled CFD-DEM Simulation of\n",
        " Hydrodynamic Bridging at Constrictions. Int. J. Multiph. Flow, Vol. 84, pp. 245-263, ISSN 0301-9322,\n",
        " htp:/dx.doi.org/10.1016/j.ijmultiphaseflow.2016.05.001. Â· Zhang, K., Chanpura, R. A., Mondal, S., Wu, C.-H., Sharma, M. M.,\n",
        " Ayoub, J. A., & Parlar, M. 2015. Particle Size Distribution Measurement Techniques and Their Relevance or Irrelevance to Sand Control\n",
        " Design. SPE Dril & Compl 30 (2): 164-174. SPE-168152-PA. htp:/dx.doi.org/10.2118/168152-PA.\n",
        "\"\"\"\n",
        "\n",
        "pred(myresume)"
      ],
      "metadata": {
        "colab": {
          "base_uri": "https://localhost:8080/",
          "height": 36
        },
        "id": "wwyrYkWN1hY-",
        "outputId": "23da75db-844a-42fa-d138-bcd68d7fde27"
      },
      "id": "wwyrYkWN1hY-",
      "execution_count": 33,
      "outputs": [
        {
          "output_type": "execute_result",
          "data": {
            "text/plain": [
              "'ENGINEERING'"
            ],
            "application/vnd.google.colaboratory.intrinsic+json": {
              "type": "string"
            }
          },
          "metadata": {},
          "execution_count": 33
        }
      ]
    }
  ],
  "metadata": {
    "colab": {
      "provenance": []
    },
    "kernelspec": {
      "display_name": "base",
      "language": "python",
      "name": "python3"
    },
    "language_info": {
      "codemirror_mode": {
        "name": "ipython",
        "version": 3
      },
      "file_extension": ".py",
      "mimetype": "text/x-python",
      "name": "python",
      "nbconvert_exporter": "python",
      "pygments_lexer": "ipython3",
      "version": "3.12.7"
    }
  },
  "nbformat": 4,
  "nbformat_minor": 5
}